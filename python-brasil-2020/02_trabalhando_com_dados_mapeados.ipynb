{
 "cells": [
  {
   "cell_type": "markdown",
   "metadata": {},
   "source": [
    "<img src=\"http://xarray.pydata.org/en/stable/_static/dataset-diagram-logo.png\" align=\"right\" width=\"30%\">\n",
    "\n",
    "# Trabalhando com dados mapeados\n",
    "Metas de aprendizagem:\n",
    "\n",
    "- Use diferentes formas de indexação para selecionar dados com base na posição e coordenadas;\n",
    "- Selecione os intervalos de data e hora;\n",
    "- Interpolar dados para novas coordenadas.\n",
    "\n",
    "## Dimensões nomeadas\n",
    "\n",
    "Conforme mencionado na sessão anterior, as dimensões rotuladas realmente ajudam a tornar o\n",
    "código menos difícil de entender. Compare a indexação `numpy` pura:\n"
   ]
  },
  {
   "cell_type": "code",
   "execution_count": null,
   "metadata": {},
   "outputs": [],
   "source": [
    "import numpy as np\n",
    "import pandas as pd\n",
    "import xarray as xr\n",
    "\n",
    "np.random.seed(0)"
   ]
  },
  {
   "cell_type": "code",
   "execution_count": null,
   "metadata": {},
   "outputs": [],
   "source": [
    "# axis0: x, axis1: y\n",
    "np_array = np.random.randn(3, 4)\n",
    "np_array[1, 3]"
   ]
  },
  {
   "cell_type": "markdown",
   "metadata": {},
   "source": [
    "e fatiar (*slicing*):\n"
   ]
  },
  {
   "cell_type": "code",
   "execution_count": null,
   "metadata": {},
   "outputs": [],
   "source": [
    "np_array[:2, 1:]"
   ]
  },
  {
   "cell_type": "markdown",
   "metadata": {},
   "source": [
    "com indexação baseada em rótulo:\n"
   ]
  },
  {
   "cell_type": "code",
   "execution_count": null,
   "metadata": {},
   "outputs": [],
   "source": [
    "arr = xr.DataArray(np_array, dims=(\"x\", \"y\"))\n",
    "arr.isel(x=1, y=3)"
   ]
  },
  {
   "cell_type": "markdown",
   "metadata": {},
   "source": [
    "Ou o equivalente:\n"
   ]
  },
  {
   "cell_type": "code",
   "execution_count": null,
   "metadata": {},
   "outputs": [],
   "source": [
    "arr[{\"x\": 1, \"y\": 3}]"
   ]
  },
  {
   "cell_type": "markdown",
   "metadata": {},
   "source": [
    "Devido à sintaxe da linguagem, as fatias devem ser construídas manualmente:\n"
   ]
  },
  {
   "cell_type": "code",
   "execution_count": null,
   "metadata": {},
   "outputs": [],
   "source": [
    "ds = xr.Dataset(\n",
    "    {\n",
    "        \"a\": ((\"x\", \"y\"), np.random.randn(3, 4)),\n",
    "        \"b\": ((\"x\", \"y\"), np.random.randn(3, 4)),\n",
    "    }\n",
    ")\n",
    "ds.isel(x=slice(None, 2), y=slice(1, None))"
   ]
  },
  {
   "cell_type": "markdown",
   "metadata": {},
   "source": [
    "Também podemos usar esses nomes para espiar os dados se a visualização automática não for suficiente:\n"
   ]
  },
  {
   "cell_type": "code",
   "execution_count": null,
   "metadata": {},
   "outputs": [],
   "source": [
    "ds.head(x=2, y=3)"
   ]
  },
  {
   "cell_type": "markdown",
   "metadata": {},
   "source": [
    "veja também `tail` e` thin`.\n"
   ]
  },
  {
   "cell_type": "markdown",
   "metadata": {},
   "source": [
    "## Coordenadas mapeadas e indexação baseada no mapeamento\n"
   ]
  },
  {
   "cell_type": "markdown",
   "metadata": {},
   "source": [
    "objetos xarray se tornam muito mais interessantes ao adicionar mapeamento de coordenadas:\n"
   ]
  },
  {
   "cell_type": "code",
   "execution_count": null,
   "metadata": {},
   "outputs": [],
   "source": [
    "arr = xr.DataArray(\n",
    "    np.random.randn(4, 6),\n",
    "    dims=(\"x\", \"y\"),\n",
    "    coords={\n",
    "        \"x\": [-3.2, 2.1, 5.3, 6.5],\n",
    "        \"y\": pd.date_range(\"2009-01-05\", periods=6, freq=\"M\"),\n",
    "    },\n",
    ")\n",
    "arr"
   ]
  },
  {
   "cell_type": "markdown",
   "metadata": {},
   "source": [
    "Para selecionar dados por mapeamento de coordenadas em vez de índices inteiros, podemos usar a\n",
    "mesma sintaxe, usando `sel` em vez de `isel`:\n"
   ]
  },
  {
   "cell_type": "code",
   "execution_count": null,
   "metadata": {},
   "outputs": [],
   "source": [
    "arr.sel(x=5.3, y=\"2009-04-30\")  # ou a.loc[{\"x\": 5.3, \"y\": \"2009-04-30\"}]"
   ]
  },
  {
   "cell_type": "markdown",
   "metadata": {},
   "source": [
    "isso exigirá que especifiquemos valores exatos. Se não os tivermos, podemos usar\n",
    "o parâmetro `method` (veja `Dataset.sel` para documentação):\n"
   ]
  },
  {
   "cell_type": "code",
   "execution_count": null,
   "metadata": {},
   "outputs": [],
   "source": [
    "arr.sel(x=4, y=\"2009-04-01\", method=\"nearest\")"
   ]
  },
  {
   "cell_type": "markdown",
   "metadata": {},
   "source": [
    "Também podemos selecionar vários valores:\n"
   ]
  },
  {
   "cell_type": "code",
   "execution_count": null,
   "metadata": {},
   "outputs": [],
   "source": [
    "arr.sel(x=[-3.2, 6.5], y=slice(\"2009-02-28\", \"2009-05-31\"))"
   ]
  },
  {
   "cell_type": "markdown",
   "metadata": {},
   "source": [
    "Se, em vez de selecionar dados, quisermos descartá-los, podemos usar `drop_sel`:\n"
   ]
  },
  {
   "cell_type": "code",
   "execution_count": null,
   "metadata": {},
   "outputs": [],
   "source": [
    "arr.drop_sel(x=[-3.2, 5.3])"
   ]
  },
  {
   "cell_type": "markdown",
   "metadata": {},
   "source": [
    "### Exercícios\n"
   ]
  },
  {
   "cell_type": "code",
   "execution_count": null,
   "metadata": {},
   "outputs": [],
   "source": [
    "ds = xr.tutorial.open_dataset(\"air_temperature\")\n",
    "ds"
   ]
  },
  {
   "cell_type": "markdown",
   "metadata": {},
   "source": [
    "1. Selecione as primeiras 10 entradas de latitude e 20 a 40 entradas de longitude\n"
   ]
  },
  {
   "cell_type": "code",
   "execution_count": null,
   "metadata": {},
   "outputs": [],
   "source": [
    "# Seu código aqui"
   ]
  },
  {
   "cell_type": "markdown",
   "metadata": {},
   "source": [
    "2. Selecione todos os dados a 75 graus norte e entre 1º de janeiro de 2013 e 15 de outubro de 2013\n"
   ]
  },
  {
   "cell_type": "code",
   "execution_count": null,
   "metadata": {},
   "outputs": [],
   "source": [
    "# Seu código aqui"
   ]
  },
  {
   "cell_type": "markdown",
   "metadata": {},
   "source": [
    "3. Remova todas as entradas em 260 e 270 graus\n"
   ]
  },
  {
   "cell_type": "code",
   "execution_count": null,
   "metadata": {},
   "outputs": [],
   "source": [
    "# Seu código aqui"
   ]
  },
  {
   "cell_type": "markdown",
   "metadata": {},
   "source": [
    "## Interpolação\n",
    "\n",
    "Se quisermos ver os valores entre as células da malha atual (interpolação),\n",
    "podemos fazer isso com `interp` (requer `scipy`):\n"
   ]
  },
  {
   "cell_type": "code",
   "execution_count": null,
   "metadata": {},
   "outputs": [],
   "source": [
    "arr.interp(\n",
    "    x=np.linspace(2, 6, 11, endpoint=True),\n",
    "    y=pd.date_range(\"2009-04-01\", \"2009-04-30\", freq=\"D\"),\n",
    ")"
   ]
  },
  {
   "cell_type": "markdown",
   "metadata": {},
   "source": [
    "Ao tentar extrapolar, os valores resultantes serão `nan`.\n",
    "\n",
    "Se já temos um objeto com as coordenadas desejadas, podemos usar\n",
    "`Interp_like`:\n"
   ]
  },
  {
   "cell_type": "code",
   "execution_count": null,
   "metadata": {},
   "outputs": [],
   "source": [
    "other = xr.DataArray(\n",
    "    dims=(\"x\", \"y\"),\n",
    "    coords={\n",
    "        \"x\": np.linspace(2, 4, 10),\n",
    "        \"y\": pd.date_range(\"2009-04-01\", \"2009-04-30\", freq=\"D\"),\n",
    "    },\n",
    ")\n",
    "arr.interp_like(other)"
   ]
  },
  {
   "cell_type": "markdown",
   "metadata": {},
   "source": [
    "### Exercícios\n",
    "\n",
    "Aumente o tamanho do passo ao longo da latitude e longitude de 2,5 graus para 1\n",
    "grau:\n"
   ]
  },
  {
   "cell_type": "code",
   "execution_count": null,
   "metadata": {},
   "outputs": [],
   "source": [
    "# Seu código aqui"
   ]
  },
  {
   "cell_type": "markdown",
   "metadata": {},
   "source": [
    "## Propagação (*Broadcasting*) e alinhamento automático\n",
    "\n",
    "Os mapeamentos ajudam a combinar matrizes com diferentes coordenadas:\n"
   ]
  },
  {
   "cell_type": "code",
   "execution_count": null,
   "metadata": {},
   "outputs": [],
   "source": [
    "a = xr.DataArray(\n",
    "    np.random.randn(3, 4),\n",
    "    dims=(\"x\", \"y\"),\n",
    "    coords={\"x\": [\"a\", \"b\", \"c\"], \"y\": np.arange(4)},\n",
    ")\n",
    "b = xr.DataArray(\n",
    "    np.random.randn(2, 7),\n",
    "    dims=(\"x\", \"y\"),\n",
    "    coords={\"x\": [\"b\", \"d\"], \"y\": [-2, -1, 0, 1, 2, 3, 4]},\n",
    ")\n",
    "\n",
    "a + b"
   ]
  },
  {
   "cell_type": "markdown",
   "metadata": {},
   "source": [
    "Isso irá selecionar automaticamente apenas rótulos comuns de ambas as matrizes, e, em seguida, execute a operação.\n"
   ]
  },
  {
   "cell_type": "markdown",
   "metadata": {},
   "source": [
    "A propagação (*broadcasting*) funciona de maneira semelhante:\n"
   ]
  },
  {
   "cell_type": "code",
   "execution_count": null,
   "metadata": {},
   "outputs": [],
   "source": [
    "arr1 = xr.DataArray(\n",
    "    np.random.randn(3),\n",
    "    dims=\"x\",\n",
    "    coords={\"x\": [\"a\", \"b\", \"c\"]},\n",
    ")\n",
    "arr2 = xr.DataArray(\n",
    "    np.random.randn(4),\n",
    "    dims=\"y\",\n",
    "    coords={\"y\": np.arange(4)},\n",
    ")\n",
    "\n",
    "arr1 + arr2"
   ]
  },
  {
   "cell_type": "markdown",
   "metadata": {},
   "source": [
    "onde ambas as matrizes foram propagadas automaticamente uma contra a outra:\n"
   ]
  },
  {
   "cell_type": "code",
   "execution_count": null,
   "metadata": {},
   "outputs": [],
   "source": [
    "arr1_, arr2_ = xr.broadcast(arr1, arr2)"
   ]
  },
  {
   "cell_type": "code",
   "execution_count": null,
   "metadata": {},
   "outputs": [],
   "source": [
    "arr1_"
   ]
  },
  {
   "cell_type": "code",
   "execution_count": null,
   "metadata": {},
   "outputs": [],
   "source": [
    "arr2_"
   ]
  },
  {
   "cell_type": "markdown",
   "metadata": {},
   "source": [
    "e então a operação (uma soma) foi executada.\n",
    "\n",
    "Também podemos chamar `align` especificamente com opções diferentes.\n"
   ]
  },
  {
   "cell_type": "code",
   "execution_count": null,
   "metadata": {},
   "outputs": [],
   "source": [
    "a_al, b_al = xr.align(a, b, join=\"inner\")\n",
    "b_al"
   ]
  }
 ],
 "metadata": {
  "kernelspec": {
   "display_name": "Python 3",
   "language": "python",
   "name": "python3"
  },
  "language_info": {
   "codemirror_mode": {
    "name": "ipython",
    "version": 3
   },
   "file_extension": ".py",
   "mimetype": "text/x-python",
   "name": "python",
   "nbconvert_exporter": "python",
   "pygments_lexer": "ipython3",
   "version": "3.8.3"
  },
  "toc-autonumbering": true
 },
 "nbformat": 4,
 "nbformat_minor": 4
}
