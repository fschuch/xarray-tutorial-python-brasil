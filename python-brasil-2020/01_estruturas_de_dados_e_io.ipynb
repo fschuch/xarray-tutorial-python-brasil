{
 "cells": [
  {
   "cell_type": "markdown",
   "metadata": {},
   "source": [
    "<img src=\"http://xarray.pydata.org/en/stable/_static/dataset-diagram-logo.png\" align=\"right\" width=\"30%\">\n",
    "\n",
    "# Estruturas para dados Multidimensionais\n",
    "\n",
    "Nesta lição, abordamos os conceitos básicos das estruturas de dados em Xarray.\n",
    "Ao final desta lição, você será capaz de:\n",
    "\n",
    "- Compreender o básico sobre estruturas de dados em Xarray;\n",
    "- Construir e inspecionar objetos `xarray.DataArray` e `xarray.Dataset`;\n",
    "- Escrever e ler vários formatos de arquivos (por exemplo NetCDF, HDF5, Zarr) usando Xarray.\n",
    "\n",
    "---\n",
    "\n",
    "## Introdução\n",
    "\n",
    "Arranjos multidimensionais (ou N-dimensionais, ND), frequentemente denominados tensores, são uma parte fundamental da computação científica.\n",
    "Eles são encontrados nas mais diversas áreas, incluindo física, astronomia, geociências, bioinformática, engenharia, finanças e aprendizado de máquina (*Machine Learning*).\n",
    "Em Python, [NumPy](https://numpy.org/) é um pilar fundamental para estruturas de dados, fornecendo a API (Interface de Programação de Aplicativos, do inglês *Application Programming Interface*) para trabalhar com arranjos brutos multidimensionais.\n",
    "Entretando, conjuntos de dados do mundo real são normalmente mais do que simplesmente números brutos; eles envolvem rótulos que mapeiam esses arranjos numéricos com informações sobre a localização espacial, temporal, e outros.\n",
    "\n",
    "Aqui está um exemplo sobre a estrutura do conjunto de dados empregados para a previsão do tempo:\n",
    "\n",
    "<img src=\"http://xarray.pydata.org/en/stable/_images/dataset-diagram.png\" align=\"center\" width=\"80%\">\n",
    "\n",
    "Você vai reparar multiplas variáveis (temperatura, precipitação, informações sobre as coordenadas (latitude e longitude) e as dimensões (x, y, t). Logo vamos descobrir como toda essa informação se relaciona nas estruturas de dados em Xarray.\n",
    "\n",
    "Xarray não apenas mantém um registro sobre todos os metadados envolvidos nos arranjos, ele também os usa para criar uma interface concisa e poderosa. Por exemplo:\n",
    "\n",
    "- Aplica operações sobre dimensões pelo seu nome: `x.sum('time')`;\n",
    "\n",
    "- Seleciona valores pela etiqueta (ou localização lógica) em vez de pela contagem de índice inteiro: `x.loc['2014-01-01']` ou `x.sel(time='2014-01-01')`.\n",
    "\n",
    "- Operações matemáticas (i.e., `x - y`) vetorizadas e expandidas para multiplas dimensões (propagação do arranjo, ou *array broadcasting*) baseados no nome da dimensão, e não em sua forma.\n",
    "\n",
    "- Use facilmente o paradígma *separar-aplicar-combinar* com `groupby`: `x.groupby('time.dayofyear').mean()`.\n",
    "\n",
    "- Alinhamento dos arranjos baseados nos rótulos semelhantes, que funcionam facilmente para valores ausentes: `x, y = xr.align(x, y, join='outer')`.\n",
    "\n",
    "- Mantém o registro de metadados arbitrários na corma de um dicionário Python: `x.attrs`.\n",
    "\n",
    "A naturesa N-dimensional das estruturas de dados xarray as tornam aplicáveis para lidar com dados científicos multi-dimensionais, além de que utilizar o nome das dimensões ao invés da numeração dos eixos (`dim='time'` ao invés de `axis=0`) torna tais estruturas muito mais maleáveis do que os arranjos de dados brutos numpy (`ndarray`): com xarray, você não precisa memorizar a ordem das dimensões dos tensores ou inserir uma dimensão postiça de tamanho 1 para alinhas os tensores (i.e., usando `np.newaxis`).\n",
    "\n",
    "O ganho imediato ao utilizar xarray é que você vai escrever menos código. A longo prazo, o retorno é que você conseguirá compreender facilmente o que estava pensando quando revisitar um código semanas ou meses após programa-lo.\n"
   ]
  },
  {
   "cell_type": "markdown",
   "metadata": {},
   "source": [
    "## Estruturas de dados\n",
    "\n",
    "Xarray fornece duas estruturas de dados: `DataArray` e `Dataset`.\n",
    "A classe `DataArray` anexa a nomenclatura das dimensões, coordenadas e atributos dos arranjos multi-dimensionais, enquanto `Dataset` combina diversos arranjos em uma única estrutura.\n",
    "\n",
    "Ambas classes são usualmente criadas quando lemos dados do disco, mas para melhor compreende-las, vamos primeiro ver o código necessário para cria-las.\n",
    "\n",
    "### DataArray\n",
    "\n",
    "A classe `DaraArray` é utilizada para anexar o nome do arranjo, das dimensões e rótudos, além de seus atributos.\n",
    "\n",
    "Por exemplo, vamos criar um `DataArray` denominado `a` com três dimensões (são elas `x`, `y` e `z`) a partir de um arranjo numpy:"
   ]
  },
  {
   "cell_type": "code",
   "execution_count": null,
   "metadata": {},
   "outputs": [],
   "source": [
    "import numpy as np\n",
    "import xarray as xr\n",
    "\n",
    "rng = np.random.default_rng(seed=0)  # Vamos discutir isso depois"
   ]
  },
  {
   "cell_type": "code",
   "execution_count": null,
   "metadata": {},
   "outputs": [],
   "source": [
    "da = xr.DataArray(\n",
    "    np.ones((3, 4, 2)),\n",
    "    dims=(\"x\", \"y\", \"z\"),\n",
    "    name=\"a\",\n",
    "    coords={\"z\": [-1, 1], \"u\": (\"x\", [0.1, 1.2, 2.3])},\n",
    "    attrs={\"attr\": \"value\"},\n",
    ")"
   ]
  },
  {
   "cell_type": "markdown",
   "metadata": {},
   "source": [
    "Nesse caso, usamos um arranjo `numpy` 3x4x2 com todos os valores definidos como `1`, mas note que podemos usar qualquer coisa que ao menos se comporte de maneira semelhante a um arranjo `numpy` ou que possa ser transformado em um arranjo [`numpy.array`](https://numpy.org/doc/stable/reference/generated/numpy.array.html).\n",
    "\n",
    "Nós informamos ao argumento `dims` uma sequência (uma tupla nessa caso, mas também poderia ter sido uma lista) contendo o nome das dimensões `x`, `y` e `z`.\n",
    "No caso de uma única coordenada, poderíamos ter informado apenas o seu nome com oargumento. Por exemplo:\n",
    "\n",
    "```python\n",
    "xr.DataArray([1, 1], dims=\"x\")\n",
    "```\n",
    "\n",
    "O name das coordenadas (e o nome `name` do arranjo) podem ser qualquer coisa que funcione em um `set` Python (i.e, envocar `hash()` neles não dispare um erro), mas para serem úteis, o ideal é utilizar `strings`.\n",
    "\n",
    "`coords` são uma estrutura [semelhantes com um dicionário](https://docs.python.org/pt-br/3/glossary.html#term-mapping) Python, que mapeia os valores (coordenadas) correspondente a cada ponto da dimensão (e.g., um vetor numérico, objetos com tempo/data ou mesmo texto). Veremos com mais detalhes ao longo do curso.\n",
    "\n",
    "Podemos também anexar ao `DataArray` qualquer informação relevante como metadados (atributos) ao fornecer um dicionário ao parâmetro `attrs`.\n",
    "\n",
    "#### Representação visual\n",
    "\n",
    "Agora que definimos nosso primeiro `DataArray`, nós podemos visualiza-lo em sua representação textual.\n",
    "\n",
    "Xarray tem dois tipos de representação: `html` (que está disponível apenas nos *notebooks*) e `texto`. Para escolher entre ambas, usamos a opção `display_style`.\n",
    "\n",
    "Começamos com a representação textual:"
   ]
  },
  {
   "cell_type": "code",
   "execution_count": null,
   "metadata": {},
   "outputs": [],
   "source": [
    "with xr.set_options(display_style=\"text\"):\n",
    "    display(da)"
   ]
  },
  {
   "cell_type": "markdown",
   "metadata": {},
   "source": [
    "Ela consiste em:\n",
    "\n",
    "- O nome do arranjo `DataArray` (`'a'`). Se não fornecermos essa informação, ela será omitida da representação;\n",
    "- As dimensões do arranjo `(x: 3, y: 4, z: 2)`: Isso nos diz que a primeira dimensão é denominada `x` e tem o tamanho `3`, a segunda dimensão é `y` com o tamanho `4`, e a terceira dimensão é `z` com o tamanho `2`;\n",
    "- Uma prévia dos valores;\n",
    "- Uma listagem (não ordenada) das coordenadas ou dimensões com coordenadas com um item por linha. Cada item tem seu nome, uma ou mais dimensões antes parenteses, um `dtype` a uma prévia dos valores. Note que haverá uma marcação `*` nos itens que são também uma dimensão;\n",
    "- Uma listagem em orda alfabética das dimensões sem coordenadas;\n",
    "- Uma lista (não ordenada) dos atributos.\n",
    "\n",
    "A representação `html` tem aparência similar:\n"
   ]
  },
  {
   "cell_type": "code",
   "execution_count": null,
   "metadata": {},
   "outputs": [],
   "source": [
    "with xr.set_options(display_style=\"html\"):\n",
    "    display(da)"
   ]
  },
  {
   "cell_type": "markdown",
   "metadata": {},
   "source": [
    "Mas note que a prévia dos valores foi condensada para uma única linha (pode ser expandida ao clicar no sómbolo à esquerda) e as dimensões são marcadas em negrito em vez do prefixo `*`.\n",
    "\n",
    "Ao longo do material, vamos manter a representação HTML exceto quando explicando a notação textual.\n"
   ]
  },
  {
   "cell_type": "markdown",
   "metadata": {},
   "source": [
    "Uma vez que criamos o `DataArray`, podemos visualizar todas as informações contidas com:\n"
   ]
  },
  {
   "cell_type": "code",
   "execution_count": null,
   "metadata": {},
   "outputs": [],
   "source": [
    "da.data"
   ]
  },
  {
   "cell_type": "code",
   "execution_count": null,
   "metadata": {},
   "outputs": [],
   "source": [
    "da.dims"
   ]
  },
  {
   "cell_type": "code",
   "execution_count": null,
   "metadata": {},
   "outputs": [],
   "source": [
    "da.coords"
   ]
  },
  {
   "cell_type": "code",
   "execution_count": null,
   "metadata": {},
   "outputs": [],
   "source": [
    "da.attrs"
   ]
  },
  {
   "cell_type": "markdown",
   "metadata": {},
   "source": [
    "#### Coordenadas\n",
    "\n",
    "Como mencionado anteriormente, `coords` é um container similar à um dicionário que mapeia nomes para valores.\n",
    "Ele pode ser:\n",
    "\n",
    "- Outro objeto `DataArray`;\n",
    "- Uma tupla na forma `(dims, data, attrs)`, onde `attrs` é opcional. Isso é na verdade equivalente a criação de um novo objeto com `DataArray(dims=dims, data=data, attrs=attrs)`;\n",
    "- Um arranjo `numpy` (ou qualquer coisa que possa ser convertida em um usando `numpy.array`).\n",
    "\n",
    "Vejamos um novo exemplo:\n"
   ]
  },
  {
   "cell_type": "code",
   "execution_count": null,
   "metadata": {},
   "outputs": [],
   "source": [
    "da = xr.DataArray(\n",
    "    np.ones((3, 4)),\n",
    "    dims=(\"x\", \"y\"),\n",
    "    coords={\n",
    "        \"x\": [\"a\", \"b\", \"c\"],\n",
    "        \"y\": np.arange(4),\n",
    "        \"u\": (\"x\", np.arange(3), {\"attr1\": 0}),\n",
    "    },\n",
    ")\n",
    "da"
   ]
  },
  {
   "cell_type": "markdown",
   "metadata": {},
   "source": [
    "Vemos que designamos o mapeamento para as dimensões `x` e `y` e também criamos uma coordenada denominada `u` ao longo de `x` com seus próprios metadados (clique no ícone da planilha para visualizar).\n",
    "\n",
    "A diferença entre o mapeamento de dimensões (dimensões coordenadas) e uma corrdenada normal é que, por hora, as operações com indexação (`sel`, `reindex`, etc) apenas estão disponíveis para dimensões coordenadas. Note também, enquanto coordenadas podem ter uma dimensão arbitrária, dimensões coordenadas devem ser unidimensionais.\n"
   ]
  },
  {
   "cell_type": "markdown",
   "metadata": {},
   "source": [
    "#### Exercícios\n",
    "\n",
    "Crie um `DataArray` denominado \"height\" a partir da números aleatórios:\n",
    "\n",
    "1. Com as dimensões denominadas \"latitude\" e \"longitude\"\n"
   ]
  },
  {
   "cell_type": "code",
   "execution_count": null,
   "metadata": {},
   "outputs": [],
   "source": [
    "height = rng.random((180, 360)) * 400\n",
    "xr.DataArray(\n",
    "    # Seu código aqui\n",
    ")"
   ]
  },
  {
   "cell_type": "markdown",
   "metadata": {},
   "source": [
    "2. Com as dimensões coordenadas:\n",
    "\n",
    "- \"latitude\": de -90 a 90 com passo 1\n",
    "- \"longitude\": de -180 a 180 com passo 1\n"
   ]
  },
  {
   "cell_type": "code",
   "execution_count": null,
   "metadata": {},
   "outputs": [],
   "source": [
    "xr.DataArray(\n",
    "    # Seu código aqui\n",
    ")"
   ]
  },
  {
   "cell_type": "markdown",
   "metadata": {},
   "source": [
    "3. Com metadados tanto para os dados quando para as coordenadas:\n",
    "\n",
    "- height: \"type\": \"ellipsoid\"\n",
    "- latitude: \"type\": \"geodetic\"\n",
    "- longitude: \"prime_meridian\": \"greenwich\"\n"
   ]
  },
  {
   "cell_type": "code",
   "execution_count": null,
   "metadata": {},
   "outputs": [],
   "source": [
    "xr.DataArray(\n",
    "    # your code here\n",
    ")"
   ]
  },
  {
   "cell_type": "markdown",
   "metadata": {},
   "source": [
    "### Dataset\n",
    "\n",
    "Objetos `Dataset` podem conter múltiplas variáveis, cada uma possivelmente com diferentes dimensões.\n",
    "\n",
    "A contrução de um `Dataset` aceita três argumentos:\n",
    "\n",
    "- `data_vars`: Dicionário que mapeia nomes à valores. Tem o formato simular ao descrito em [coordenadas](#Coordenadas), exceto que deve ser um objeto `DataArray` ou a sintaxe com tuplas, já que temos que fornecer as dimensões.\n",
    "- `coords`: Mesmo que para `DataArray`.\n",
    "- `attrs`: Mesmo que para `Dataset`.\n",
    "\n",
    "Por exemplo, vamos criar um `Dataset` com duas variáveis:\n"
   ]
  },
  {
   "cell_type": "code",
   "execution_count": null,
   "metadata": {},
   "outputs": [],
   "source": [
    "ds = xr.Dataset(\n",
    "    data_vars={\n",
    "        \"a\": ((\"x\", \"y\"), np.ones((3, 4))),\n",
    "        \"b\": (\"t\", np.full((8,), 3), {\"attr\": \"value\"}),\n",
    "    },\n",
    "    coords={\n",
    "        \"x\": [-1, 0, 1],\n",
    "    },\n",
    "    attrs={\"attr\": \"value\"},\n",
    ")"
   ]
  },
  {
   "cell_type": "markdown",
   "metadata": {},
   "source": [
    "#### Representação visua\n",
    "\n",
    "Novamente, vemos primeiro a representação textual:\n"
   ]
  },
  {
   "cell_type": "code",
   "execution_count": null,
   "metadata": {},
   "outputs": [],
   "source": [
    "with xr.set_options(display_style=\"text\"):\n",
    "    display(ds)"
   ]
  },
  {
   "cell_type": "markdown",
   "metadata": {},
   "source": [
    "Ela consiste em\n",
    "\n",
    "- Um descrição de todas as dimensões no `dataset` e seus comprimentos;\n",
    "- Uma lista das coordenadas (mesmo formata que para `DataArray`);\n",
    "- Uma lista das dimensões sem coordenadas;\n",
    "- Uma lista das variáveis armazenadas.\n",
    "\n",
    "Agora, a representação HTML:\n"
   ]
  },
  {
   "cell_type": "code",
   "execution_count": null,
   "metadata": {},
   "outputs": [],
   "source": [
    "with xr.set_options(display_style=\"html\"):\n",
    "    display(ds)"
   ]
  },
  {
   "cell_type": "markdown",
   "metadata": {},
   "source": [
    "#### Coordenadas\n",
    "\n",
    "Assim como para `DataArray`, um conjunto `Dataset` se torna mais útil quando designamos coordenadas.\n",
    "Aqui podemos também exemplificar o uso de um objeto `datetime` Pandas como mapeamento de coordenadas:\n"
   ]
  },
  {
   "cell_type": "code",
   "execution_count": null,
   "metadata": {},
   "outputs": [],
   "source": [
    "import pandas as pd\n",
    "\n",
    "xr.Dataset(\n",
    "    data_vars={\n",
    "        \"a\": ((\"x\", \"y\"), np.ones((3, 4))),\n",
    "        \"b\": ((\"t\", \"x\"), np.full((8, 3), 3)),\n",
    "    },\n",
    "    coords={\n",
    "        \"x\": [\"a\", \"b\", \"c\"],\n",
    "        \"y\": np.arange(4),\n",
    "        \"t\": pd.date_range(\"2020-07-05\", periods=8, freq=\"D\"),\n",
    "    },\n",
    ")"
   ]
  },
  {
   "cell_type": "markdown",
   "metadata": {},
   "source": [
    "No caso det ermos variáveis com valores diferentes ao longa de uma mesma dimensão, não podemos mais usar a sintaxe reduzida apresentada acima. Em vez disso, temos que usar objetos `DataArray`:\n"
   ]
  },
  {
   "cell_type": "code",
   "execution_count": null,
   "metadata": {},
   "outputs": [],
   "source": [
    "x_a = np.arange(1, 4)\n",
    "x_b = np.arange(-1, 3)\n",
    "\n",
    "a = xr.DataArray(np.linspace(0, 1, 3), dims=\"x\", coords={\"x\": x_a})\n",
    "b = xr.DataArray(np.zeros(4), dims=\"x\", coords={\"x\": x_b})\n",
    "\n",
    "xr.Dataset(data_vars={\"a\": a, \"b\": b})"
   ]
  },
  {
   "cell_type": "markdown",
   "metadata": {},
   "source": [
    "que combina as coordenadas e preenche os espaços vazios com com `nan` (convertendo os dados para ponto flutuante no processo). Por exemplo, `b` não tem um valor para `x==3`, então `nan` foi usado em seu lugar.\n"
   ]
  },
  {
   "cell_type": "markdown",
   "metadata": {},
   "source": [
    "#### Exercícios\n",
    "\n",
    "1. Crie um Dataset com duas variáveis ao longo de `latitude` e `longitude`: `height` e `gravity_anomaly`\n"
   ]
  },
  {
   "cell_type": "code",
   "execution_count": null,
   "metadata": {},
   "outputs": [],
   "source": [
    "height = rng.random((180, 360)) * 400\n",
    "gravity_anomaly = rng.random((180, 360)) * 400 - 200\n",
    "\n",
    "xr.Dataset(\n",
    "    # Seu código aqui\n",
    ")"
   ]
  },
  {
   "cell_type": "markdown",
   "metadata": {},
   "source": [
    "2. Adicione as coordenadas `latitude` e `longitude`:\n",
    "\n",
    "- `latitude`: de -90 até 90 com passo 1\n",
    "- `longitude`: de -180 até 180 com passo 1\n"
   ]
  },
  {
   "cell_type": "code",
   "execution_count": null,
   "metadata": {},
   "outputs": [],
   "source": [
    "xr.Dataset(\n",
    "    # Seu código aqui\n",
    ")"
   ]
  },
  {
   "cell_type": "markdown",
   "metadata": {},
   "source": [
    "3. Adicione metadados para coordenadas a variáveis:\n",
    "\n",
    "- `latitude`: \"type\": \"geodetic\"\n",
    "- `longitude`: \"prime_meridian\": \"greenwich\"\n",
    "- `height`: \"ellipsoid\": \"wgs84\"\n",
    "- `gravity_anomaly`: \"ellipsoid\": \"grs80\"\n"
   ]
  },
  {
   "cell_type": "code",
   "execution_count": null,
   "metadata": {},
   "outputs": [],
   "source": [
    "xr.Dataset(\n",
    "    # Seu código aqui\n",
    ")"
   ]
  },
  {
   "cell_type": "markdown",
   "metadata": {},
   "source": [
    "## Conversões e I/O\n",
    "\n",
    "Os objetos `DataArray` e `Dataset` são muito frequentemente criados por meio de conversões com outras bibliotecas Python, por exemplo [pandas](https://pandas.pydata.org/), ou ao ler informação armazenada em formatos como [NetCDF](https://www.unidata.ucar.edu/software/netcdf/) ou\n",
    "[zarr](https://zarr.readthedocs.io/en/stable/).\n",
    "\n",
    "Para converter de/para `pandas`, podemos usar o método <code>[to_xarray](https://pandas.pydata.org/pandas-docs/stable/reference/api/pandas.DataFrame.to_xarray.html)</code> contido nos objetos [pandas](https://zarr.readthedocs.io/en/stable/), ou ainda o método <code>[to_pandas](http://xarray.pydata.org/en/stable/generated/xarray.DataArray.to_pandas.html)</code> contido em objetos `xarray`.\n"
   ]
  },
  {
   "cell_type": "code",
   "execution_count": null,
   "metadata": {},
   "outputs": [],
   "source": [
    "series = pd.Series(np.ones((10,)), index=list(\"abcdefghij\"))\n",
    "series"
   ]
  },
  {
   "cell_type": "code",
   "execution_count": null,
   "metadata": {},
   "outputs": [],
   "source": [
    "arr = series.to_xarray()\n",
    "arr"
   ]
  },
  {
   "cell_type": "code",
   "execution_count": null,
   "metadata": {},
   "outputs": [],
   "source": [
    "arr.to_pandas()"
   ]
  },
  {
   "cell_type": "markdown",
   "metadata": {},
   "source": [
    "Podemos ainda controlar qual objeto `pandas` é utilizado ao invocar `to_series` ou `to_dataframe`:\n"
   ]
  },
  {
   "cell_type": "code",
   "execution_count": null,
   "metadata": {},
   "outputs": [],
   "source": [
    "ds = xr.Dataset(\n",
    "    data_vars={\"a\": (\"x\", np.arange(5)), \"b\": ((\"x\", \"y\"), np.ones((5, 4)))}\n",
    ")"
   ]
  },
  {
   "cell_type": "markdown",
   "metadata": {},
   "source": [
    "**<code>to_series</code>**: Sempre irá converter objetos `DataArray` para `pandas.Series`, usando `MultiIndex` para lidar com multiplas dimensões\n"
   ]
  },
  {
   "cell_type": "code",
   "execution_count": null,
   "metadata": {},
   "outputs": [],
   "source": [
    "ds.a.to_series()"
   ]
  },
  {
   "cell_type": "code",
   "execution_count": null,
   "metadata": {},
   "outputs": [],
   "source": [
    "ds.b.to_series()"
   ]
  },
  {
   "cell_type": "markdown",
   "metadata": {},
   "source": [
    "**<code>to_dataframe</code>**: Sempre irá converter objetos `DataArray` ou `Dataset`\n",
    "para `pandas.DataFrame`. Note que objetos `DataArray` devem ser nomeados para que isso funcione.\n"
   ]
  },
  {
   "cell_type": "code",
   "execution_count": null,
   "metadata": {},
   "outputs": [],
   "source": [
    "ds.a.to_dataframe()"
   ]
  },
  {
   "cell_type": "markdown",
   "metadata": {},
   "source": [
    "Uma vez que as colunas em um `DataFrame` devem ter os mesmos índices, eles são automaticamente difundidos.\n"
   ]
  },
  {
   "cell_type": "code",
   "execution_count": null,
   "metadata": {},
   "outputs": [],
   "source": [
    "ds.to_dataframe()"
   ]
  },
  {
   "cell_type": "markdown",
   "metadata": {},
   "source": [
    "### I/O\n",
    "\n",
    "Um dos recursos mais usados do Xarray é a capacidade de ler e escrever\n",
    "para uma variedade de formatos de dados. Por exemplo, o Xarray pode ler o seguinte\n",
    "formatos:\n",
    "\n",
    "- [NetCDF](https://www.unidata.ucar.edu/software/netcdf/) / GRIB (via\n",
    "  `open_dataset` / `open_mfdataset`, `to_netcdf` / `save_mfdataset`)\n",
    "- [Zarr](https://zarr.readthedocs.io/en/stable/) (via `open_zarr`, `to_zarr`)\n",
    "- [GeoTIFF](https://gdal.org/drivers/raster/gtiff.html) /\n",
    "  [GDAL rasters](https://svn.osgeo.org/gdal/tags/gdal_1_2_5/frmts/formats_list.html)\n",
    "  (via `open_rasterio`)\n",
    "\n",
    "#### NetCDF\n",
    "\n",
    "A maneira recomendada de armazenar estruturas de dados xarray é NetCDF, que é um formato de arquivos binários para conjuntos de dados autodescritos (que se originaram nas geociências).\n",
    "Xarray é baseado no modelo de dados netCDF, então arquivos netCDF no disco diretamente\n",
    "correspondem a objetos `Dataset`.\n",
    "\n",
    "O Xarray lê e grava em arquivos NetCDF usando o as funções `open_dataset`/`open_dataarray` e o método `to_netcdf`.\n",
    "\n",
    "Vamos primeiro criar alguns conjuntos de dados e gravá-los no disco usando `to_netcdf`, que\n",
    "segue o caminho para o qual queremos escrever:"
   ]
  },
  {
   "cell_type": "code",
   "execution_count": null,
   "metadata": {},
   "outputs": [],
   "source": [
    "ds1 = xr.Dataset(\n",
    "    data_vars={\n",
    "        \"a\": ((\"x\", \"y\"), np.random.randn(4, 2)),\n",
    "        \"b\": ((\"z\", \"x\"), np.random.randn(6, 4)),\n",
    "    },\n",
    "    coords={\n",
    "        \"x\": np.arange(4),\n",
    "        \"y\": np.arange(-2, 0),\n",
    "        \"z\": np.arange(-3, 3),\n",
    "    },\n",
    ")\n",
    "ds2 = xr.Dataset(\n",
    "    data_vars={\n",
    "        \"a\": ((\"x\", \"y\"), np.random.randn(7, 3)),\n",
    "        \"b\": ((\"z\", \"x\"), np.random.randn(2, 7)),\n",
    "    },\n",
    "    coords={\n",
    "        \"x\": np.arange(6, 13),\n",
    "        \"y\": np.arange(3),\n",
    "        \"z\": np.arange(3, 5),\n",
    "    },\n",
    ")\n",
    "\n",
    "# Escreve os datasets\n",
    "ds1.to_netcdf(\"ds1.nc\")\n",
    "ds2.to_netcdf(\"ds2.nc\")\n",
    "\n",
    "# Escreve dataarray\n",
    "ds1.a.to_netcdf(\"da1.nc\")"
   ]
  },
  {
   "cell_type": "markdown",
   "metadata": {},
   "source": [
    "Reading those files is just as simple:\n"
   ]
  },
  {
   "cell_type": "code",
   "execution_count": null,
   "metadata": {},
   "outputs": [],
   "source": [
    "xr.open_dataset(\"ds1.nc\")"
   ]
  },
  {
   "cell_type": "code",
   "execution_count": null,
   "metadata": {},
   "outputs": [],
   "source": [
    "xr.open_dataarray(\"da1.nc\")"
   ]
  },
  {
   "cell_type": "markdown",
   "metadata": {},
   "source": [
    "#### Zarr\n",
    "\n",
    "[Zarr](https://zarr.readthedocs.io/en/stable/) é um pacote Python e um formato de dados que fornece uma implementação de matrizes N-dimensionais em partes (*chunked*).\n",
    "Zarr tem a capacidade de armazenar matrizes de várias maneiras, incluindo na memória, em\n",
    "arquivos e em armazenamento de objeto baseado em nuvem, como Amazon S3 e Google Cloud\n",
    "Armazenamento. O back-end Zarr do Xarray permite que o xarray aproveite esses recursos.\n",
    "\n",
    "Os arquivos Zarr podem ser gravados com:\n"
   ]
  },
  {
   "cell_type": "code",
   "execution_count": null,
   "metadata": {},
   "outputs": [],
   "source": [
    "ds1.to_zarr(\"ds1.zarr\", mode=\"w\")"
   ]
  },
  {
   "cell_type": "markdown",
   "metadata": {},
   "source": [
    "ou para qualquer interface `MutableMapping`:"
   ]
  },
  {
   "cell_type": "code",
   "execution_count": null,
   "metadata": {},
   "outputs": [],
   "source": [
    "mystore = {}\n",
    "\n",
    "ds1.to_zarr(store=mystore)"
   ]
  },
  {
   "cell_type": "markdown",
   "metadata": {},
   "source": [
    "Podemos então ler o arquivo criado com:\n"
   ]
  },
  {
   "cell_type": "code",
   "execution_count": null,
   "metadata": {},
   "outputs": [],
   "source": [
    "xr.open_zarr(\"ds1.zarr\", chunks=None)"
   ]
  },
  {
   "cell_type": "markdown",
   "metadata": {},
   "source": [
    "definir o parâmetro `chunks` para` None` evita `dask` (mais sobre isso a seguir).\n"
   ]
  }
 ],
 "metadata": {
  "kernelspec": {
   "display_name": "Python 3",
   "language": "python",
   "name": "python3"
  },
  "language_info": {
   "codemirror_mode": {
    "name": "ipython",
    "version": 3
   },
   "file_extension": ".py",
   "mimetype": "text/x-python",
   "name": "python",
   "nbconvert_exporter": "python",
   "pygments_lexer": "ipython3",
   "version": "3.8.3"
  },
  "toc-autonumbering": true,
  "toc-showtags": false
 },
 "nbformat": 4,
 "nbformat_minor": 4
}
