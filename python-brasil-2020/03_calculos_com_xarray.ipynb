{
 "cells": [
  {
   "cell_type": "markdown",
   "metadata": {},
   "source": [
    "<img src=\"http://xarray.pydata.org/en/stable/_static/dataset-diagram-logo.png\" align=\"right\" width=\"30%\">\n",
    "\n",
    "# Computação com Xarray\n",
    "\n",
    "Nesta lição, discutiremos como fazer cálculos científicos com objetos xarray. Nossos objetivos de aprendizagem são os seguintes. Ao final da aula, estaremos capaz de:\n",
    "\n",
    "- Aplicar funções básicas de aritmética e numpy para `DataArrays` e `Dataset`;\n",
    "- Usar as operações de redução com reconhecimento de mapeamento do Xarray (por exemplo, `média`,` soma`);\n",
    "- Aplicar funções arbitrárias aos dados Xarray via `apply_ufunc`;\n",
    "- Usar a propagação do Xarray para calcular em matrizes de dimensionalidades diferentes;\n",
    "- Executar fluxos de trabalho \"dividir / aplicar / combinar\" no Xarray usando `groupby`, incluindo:\n",
    "   - reduções dentro dos grupos;\n",
    "   - propagações em grupos.\n",
    "- Usar as funções `resample`,` rolling` e `coarsen` para manipular os dados.\n"
   ]
  },
  {
   "cell_type": "code",
   "execution_count": null,
   "metadata": {},
   "outputs": [],
   "source": [
    "import expectexception\n",
    "import numpy as np\n",
    "import xarray as xr\n",
    "from matplotlib import pyplot as plt"
   ]
  },
  {
   "cell_type": "markdown",
   "metadata": {},
   "source": [
    "## Conjunto de dados de exemplo\n",
    "\n",
    "Primeiro carregamos um conjunto de dados. Vamos usar o [NOAA Extended Reconstructed Sea Surface Temperature (ERSST) v5](https://www.ncdc.noaa.gov/data-access/marineocean-data/extended-reconstructed-sea-surface-temperature-ersst-v5), uma compilação em malha amplamente usada e confiável de dados históricos\n",
    "voltando a 1854.\n",
    "\n",
    "Uma vez que os dados são fornecidos por meio de um servidor [OPeNDAP](https://en.wikipedia.org/wiki/OPeNDAP), podemos carregá-lo diretamente,\n",
    "sem baixar nada:\n"
   ]
  },
  {
   "cell_type": "code",
   "execution_count": null,
   "metadata": {},
   "outputs": [],
   "source": [
    "### NOTA: Se centenas de pessoas se conectarem a este servidor ao mesmo tempo e baixarem o mesmo conjunto de dados,\n",
    "###       as coisas podem ficar estranhas! Recomenda-se usar a cópia do Google Cloud.\n",
    "\n",
    "# url = \"http://www.esrl.noaa.gov/psd/thredds/dodsC/Datasets/noaa.ersst.v5/sst.mnmean.nc\"\n",
    "# # elimine uma variável desnecessária que complica algumas operações\n",
    "# ds = xr.open_dataset(url, drop_variables=[\"time_bnds\"])\n",
    "# # levará um ou dois minutos para ser concluído\n",
    "# ds = ds.sel(time=slice(\"1960\", \"2018\")).load()\n",
    "# ds"
   ]
  },
  {
   "cell_type": "code",
   "execution_count": null,
   "metadata": {},
   "outputs": [],
   "source": [
    "import gcsfs\n",
    "\n",
    "fs = gcsfs.GCSFileSystem(token=\"anon\")\n",
    "ds = xr.open_zarr(\n",
    "    fs.get_mapper(\"gs://pangeo-noaa-ncei/noaa.ersst.v5.zarr\"), consolidated=True\n",
    ").load()\n",
    "ds"
   ]
  },
  {
   "cell_type": "markdown",
   "metadata": {},
   "source": [
    "Vamos fazer algumas visualizações básicas dos dados, apenas para ter certeza de que parecem\n",
    "razoável.\n"
   ]
  },
  {
   "cell_type": "code",
   "execution_count": null,
   "metadata": {},
   "outputs": [],
   "source": [
    "ds.sst[0].plot(vmin=-2, vmax=30)"
   ]
  },
  {
   "cell_type": "markdown",
   "metadata": {},
   "source": [
    "## Aritmética Básica\n",
    "\n",
    "`DataArrays` e conjuntos de dados Xarray funcionam perfeitamente com operadores aritméticos e\n",
    "funções `numpy`.\n",
    "\n",
    "Por exemplo, imagine que queremos converter a temperatura (dada em Celsius) para\n",
    "Kelvin:\n"
   ]
  },
  {
   "cell_type": "code",
   "execution_count": null,
   "metadata": {},
   "outputs": [],
   "source": [
    "sst_kelvin = ds.sst + 273.15\n",
    "sst_kelvin"
   ]
  },
  {
   "cell_type": "markdown",
   "metadata": {},
   "source": [
    "As dimensões e coordenadas foram preservadas após a operação.\n",
    "\n",
    "<div class = \"alert alert-warning\">\n",
    "     <strong> Aviso: </strong> embora muitos conjuntos de dados xarray tenham um atributo <code> units </code>, que é usado na plotagem,\n",
    "     O Xarray não entende unidades inerentemente. No entanto, o trabalho está em andamento para integrar o xarray\n",
    "     com <a href=\"https://pint.readthedocs.io/en/0.12/\"> pint </a>, que fornecerá operações com reconhecimento total da unidade.\n",
    "</div>\n",
    "\n",
    "Podemos aplicar funções mais complexas, incluindo numpy `ufuncs`, para objetos Xarray.\n",
    "Imagine que quiséssemos calcular a seguinte expressão como uma função de SST\n",
    "($ \\Theta $) em Kelvin:\n",
    "\n",
    "$$ f(\\Theta) =  0.5 \\ln(\\Theta^2) $$\n"
   ]
  },
  {
   "cell_type": "code",
   "execution_count": null,
   "metadata": {},
   "outputs": [],
   "source": [
    "f = 0.5 * np.log(sst_kelvin ** 2)\n",
    "f"
   ]
  },
  {
   "cell_type": "markdown",
   "metadata": {},
   "source": [
    "## Aplicação de funções arbitrárias\n",
    "\n",
    "É incrível podermos chamar `np.log(ds)` e fazer com que \"simplesmente funcione\". Porém, nem\n",
    "todas as bibliotecas de terceiros funcionam dessa maneira.\n",
    "\n",
    "Neste exemplo, usaremos funções do\n",
    "[Gibbs Seawater Toolkit](https://teos-10.github.io/GSW-Python/), um pacote para\n",
    "a termodinâmica da água do mar. Este pacote fornece `ufuncs` que operam em\n",
    "matrizes numpy.\n"
   ]
  },
  {
   "cell_type": "code",
   "execution_count": null,
   "metadata": {},
   "outputs": [],
   "source": [
    "import gsw\n",
    "\n",
    "# an example function\n",
    "# http://www.teos-10.org/pubs/gsw/html/gsw_t90_from_t68.html\n",
    "gsw.t90_from_t68?"
   ]
  },
  {
   "cell_type": "code",
   "execution_count": null,
   "metadata": {},
   "outputs": [],
   "source": [
    "gsw.t90_from_t68(ds.sst)  # -> returns a numpy array"
   ]
  },
  {
   "cell_type": "markdown",
   "metadata": {},
   "source": [
    "Seria bom manter nossas dimensões e coordenadas. Nós podemos fazer isso\n",
    "com `xr.apply_ufunc`:\n"
   ]
  },
  {
   "cell_type": "code",
   "execution_count": null,
   "metadata": {},
   "outputs": [],
   "source": [
    "xr.apply_ufunc(gsw.t90_from_t68, ds.sst)"
   ]
  },
  {
   "cell_type": "markdown",
   "metadata": {},
   "source": [
    "**Observação:** `apply_ufunc` é uma função poderosa e misteriosa.\n",
    "Ela tem muitas opções para fazer coisas mais complicadas.\n",
    "Infelizmente, não temos tempo para nos aprofundar aqui.\n",
    "Consulte a [documentação Xarray](http://xarray.pydata.org/en/latest/generated/xarray.apply_ufunc.html) para obter mais detalhes.\n"
   ]
  },
  {
   "cell_type": "markdown",
   "metadata": {},
   "source": [
    "## Reduções\n",
    "\n",
    "Assim como no numpy, podemos reduzir DataArrays xarray ao longo de qualquer número de eixos:\n"
   ]
  },
  {
   "cell_type": "code",
   "execution_count": null,
   "metadata": {},
   "outputs": [],
   "source": [
    "sst = ds.sst\n",
    "sst.mean(axis=0)"
   ]
  },
  {
   "cell_type": "code",
   "execution_count": null,
   "metadata": {},
   "outputs": [],
   "source": [
    "sst.mean(axis=(1, 2))"
   ]
  },
  {
   "cell_type": "code",
   "execution_count": null,
   "metadata": {},
   "outputs": [],
   "source": [
    "sst.mean()"
   ]
  },
  {
   "cell_type": "markdown",
   "metadata": {},
   "source": [
    "No entanto, em vez de realizar reduções nos eixos (como em numpy), podemos realizar\n",
    "-las em dimensões. Isso acaba sendo uma grande conveniência, especialmente em\n",
    "cálculos complexos quando você não consegue lembrar facilmente a qual eixo corresponde\n",
    "qual dimensão:\n"
   ]
  },
  {
   "cell_type": "code",
   "execution_count": null,
   "metadata": {},
   "outputs": [],
   "source": [
    "sst.mean(dim=\"time\")"
   ]
  },
  {
   "cell_type": "markdown",
   "metadata": {},
   "source": [
    "Todas as reduções numpy padrão (por exemplo, `min`,` max`, `sum`,` std`, etc.) são\n",
    "acessível.\n"
   ]
  },
  {
   "cell_type": "markdown",
   "metadata": {},
   "source": [
    "#### Exercício\n",
    "\n",
    "Pegue a média de `sst` em longitude e latitude. Faça um gráfico simples contando a série temporal:"
   ]
  },
  {
   "cell_type": "code",
   "execution_count": null,
   "metadata": {},
   "outputs": [],
   "source": [
    "# Seu código aqui"
   ]
  },
  {
   "cell_type": "markdown",
   "metadata": {},
   "source": [
    "## Propagação\n",
    "\n",
    "Propagação (*broadcasting*) se refere ao alinhamento de arranjos com diferentes números de\n",
    "dimensões. As regras de propagação do Numpy, com base na forma do arranjo (`shape`), às vezes podem ser\n",
    "difícil de entender e lembrar. Xarray faz *brodcasting* pelo nome de dimensão,\n",
    "em vez do seu formato. Esta é uma grande conveniência.\n",
    "\n",
    "Vamos agora criar dois arrays com algumas dimensões em comum. Para este exemplo, nós\n",
    "vamos criar uma matriz de \"pesos\" proporcional ao cosseno de latitude.\n",
    "Este é o fator de ponderação de área correto para dados em uma\n",
    "malha lat-lon."
   ]
  },
  {
   "cell_type": "code",
   "execution_count": null,
   "metadata": {},
   "outputs": [],
   "source": [
    "weights = np.cos(np.deg2rad(ds.lat))\n",
    "weights.dims"
   ]
  },
  {
   "cell_type": "markdown",
   "metadata": {},
   "source": [
    "Se multiplicarmos por SST, \"simplesmente funciona\" e as matrizes são propagadas\n",
    "devidamente:\n"
   ]
  },
  {
   "cell_type": "code",
   "execution_count": null,
   "metadata": {},
   "outputs": [],
   "source": [
    "(ds.sst * weights).dims"
   ]
  },
  {
   "cell_type": "markdown",
   "metadata": {},
   "source": [
    "<div class = \"alert alert-warning\">\n",
    "     <strong> Cuidado: </strong> se as matrizes que estão sendo propagadas compartilham um nome de dimensão, mas têm coordenadas diferentes,\n",
    "     elas serão alinhadas primeiro usando as configurações de alinhamento padrão do Xarray (incluindo o preenchimento dos valores ausentes com NaNs).\n",
    "     Se não for isso que você deseja, é melhor chamar <code> align </code> explicitamente antes de transmitir.\n",
    "</div>\n"
   ]
  },
  {
   "cell_type": "markdown",
   "metadata": {},
   "source": [
    "## Reduções Ponderadas\n",
    "\n",
    "Podemos imaginar o cálculo da média espacial ponderada do SST manualmente, assim:\n"
   ]
  },
  {
   "cell_type": "code",
   "execution_count": null,
   "metadata": {},
   "outputs": [],
   "source": [
    "sst_mean = (ds.sst * weights).sum(dim=(\"lon\", \"lat\")) / weights.sum(dim=\"lat\")\n",
    "sst_mean.plot()\n",
    "plt.title(\"This is wrong!\")"
   ]
  },
  {
   "cell_type": "markdown",
   "metadata": {},
   "source": [
    "Isso estaria errado, no entanto, porque o denominador (`weights.sum(dim=\"lat\")`)\n",
    "precisa ser expandido para incluir a dimensão `lon` e modificado para levar em conta\n",
    "os valores ausentes (pontos de terra).\n",
    "\n",
    "Em geral, as reduções ponderadas em matrizes multidimensionais são complicadas. Para torná-las um pouco mais fáceis, o Xarray oferece um mecanismo para reduções ponderadas.\n",
    "Fazemos isso criando um objeto intermediário `DataArray.weighted`, para\n",
    "quais diferentes operações de redução podem ser aplicadas.\n"
   ]
  },
  {
   "cell_type": "code",
   "execution_count": null,
   "metadata": {},
   "outputs": [],
   "source": [
    "sst_weighted = ds.sst.weighted(weights)\n",
    "sst_weighted"
   ]
  },
  {
   "cell_type": "code",
   "execution_count": null,
   "metadata": {},
   "outputs": [],
   "source": [
    "sst_weighted.mean(dim=(\"lon\", \"lat\")).plot()\n",
    "plt.title(\"Correct Global Mean SST\")"
   ]
  },
  {
   "cell_type": "markdown",
   "metadata": {},
   "source": [
    "## Agrupar por - *groupby*\n",
    "\n",
    "O Xarray copia a funcionalidade de agrupamento muito útil do Pandas, permitindo o fluxo de trabalho \"divide /\n",
    "aplica / combina\" em DataArrays e Dataset xarray.\n",
    "\n",
    "Para fornecer um exemplo motivado fisicamente, vamos examinar uma série temporal de SST em\n",
    "um único ponto.\n"
   ]
  },
  {
   "cell_type": "code",
   "execution_count": null,
   "metadata": {},
   "outputs": [],
   "source": [
    "ds.sst.sel(lon=300, lat=50).plot()"
   ]
  },
  {
   "cell_type": "markdown",
   "metadata": {},
   "source": [
    "Como podemos ver no gráfico, a série do tempo em qualquer ponto é totalmente\n",
    "dominada pelo ciclo sazonal. Gostaríamos de remover esse ciclo sazonal\n",
    "(chamada de \"climatologia\"), a fim de ver melhor as variações de longo prazo em\n",
    "temperatura. Podemos fazer isso usando **groupby**.\n",
    "\n",
    "Antes de avançar, observamos que o xarray analisou corretamente o índice de tempo,\n",
    "resultando em um índice de data e hora do Pandas na dimensão do tempo:\n"
   ]
  },
  {
   "cell_type": "code",
   "execution_count": null,
   "metadata": {},
   "outputs": [],
   "source": [
    "ds.time"
   ]
  },
  {
   "cell_type": "markdown",
   "metadata": {},
   "source": [
    "A sintaxe do *groupby* de Xarray é quase idêntica à do Pandas:\n"
   ]
  },
  {
   "cell_type": "code",
   "execution_count": null,
   "metadata": {},
   "outputs": [],
   "source": [
    "ds.groupby?"
   ]
  },
  {
   "cell_type": "markdown",
   "metadata": {},
   "source": [
    "### Etapa de divisão\n",
    "\n",
    "O argumento mais importante é `grup`: ele define os valores únicos que usaremos para \"dividir\" os dados para análise agrupada. Podemos passar um DataArray ou um nome de uma variável no conjunto de dados. Vamos primeiro usar um DataArray. Assim como com Pandas, podemos usar o índice de tempo para extrair componentes específicos de datas e\n",
    "horários. Xarray usa uma sintaxe especial para este `.dt`, chamada de `DatetimeAccessor`:\n"
   ]
  },
  {
   "cell_type": "code",
   "execution_count": null,
   "metadata": {},
   "outputs": [],
   "source": [
    "ds.time.dt"
   ]
  },
  {
   "cell_type": "code",
   "execution_count": null,
   "metadata": {},
   "outputs": [],
   "source": [
    "ds.time.dt.month"
   ]
  },
  {
   "cell_type": "markdown",
   "metadata": {},
   "source": [
    "Podemos usar esses arrays em uma operação *groupby*:\n"
   ]
  },
  {
   "cell_type": "code",
   "execution_count": null,
   "metadata": {},
   "outputs": [],
   "source": [
    "gb = ds.groupby(ds.time.dt.month)\n",
    "gb"
   ]
  },
  {
   "cell_type": "markdown",
   "metadata": {},
   "source": [
    "Xarray também oferece uma sintaxe mais concisa quando a variável que você está agrupando já está presente no conjunto de dados. Isso é idêntico à linha anterior:\n"
   ]
  },
  {
   "cell_type": "code",
   "execution_count": null,
   "metadata": {},
   "outputs": [],
   "source": [
    "gb = ds.groupby(\"time.month\")\n",
    "gb"
   ]
  },
  {
   "cell_type": "markdown",
   "metadata": {},
   "source": [
    "Agora que os dados estão divididos, podemos iterar manualmente no grupo. O\n",
    "iterador retorna a chave (nome do grupo) e o valor (o conjunto de dados real\n",
    "correspondente a esse grupo) para cada grupo:\n"
   ]
  },
  {
   "cell_type": "code",
   "execution_count": null,
   "metadata": {},
   "outputs": [],
   "source": [
    "for group_name, group_ds in gb:\n",
    "    # stop iterating after the first loop\n",
    "    break\n",
    "print(group_name)\n",
    "group_ds"
   ]
  },
  {
   "cell_type": "markdown",
   "metadata": {},
   "source": [
    "### Aplicar e combinar\n",
    "\n",
    "Agora que temos grupos definidos, é hora de \"aplicar\" um cálculo ao\n",
    "grupo. Como no Pandas, esses cálculos podem ser:\n",
    "\n",
    "- *Agregação*: reduz o tamanho do grupo;\n",
    "- *Transformação*: preserva o tamanho total do grupo.\n",
    "\n",
    "No final da etapa de aplicação, o xarray combinará automaticamente os grupos agregados/transformados de volta em um único objeto.\n"
   ]
  },
  {
   "cell_type": "markdown",
   "metadata": {},
   "source": [
    "#### Agregações\n"
   ]
  },
  {
   "cell_type": "markdown",
   "metadata": {},
   "source": [
    "Como no Pandas, o objeto *groupby* do xarray tem muitas operações de agregação integradas\n",
    "(por exemplo, `mean`,` min`, `max`,` std`, etc):\n"
   ]
  },
  {
   "cell_type": "code",
   "execution_count": null,
   "metadata": {},
   "outputs": [],
   "source": [
    "ds_mm = gb.mean(dim=\"time\")\n",
    "ds_mm"
   ]
  },
  {
   "cell_type": "markdown",
   "metadata": {},
   "source": [
    "Então, fizemos o que queríamos fazer: calcular a climatologia em cada ponto do\n",
    "conjunto de dados. Vamos dar uma pequena olhada nos dados.\n",
    "\n",
    "_Climatologia em um ponto específico do Atlântico Norte_\n"
   ]
  },
  {
   "cell_type": "code",
   "execution_count": null,
   "metadata": {},
   "outputs": [],
   "source": [
    "ds_mm.sst.sel(lon=300, lat=50).plot()"
   ]
  },
  {
   "cell_type": "markdown",
   "metadata": {},
   "source": [
    "_Zonal Mean Climatolgoy_\n"
   ]
  },
  {
   "cell_type": "code",
   "execution_count": null,
   "metadata": {},
   "outputs": [],
   "source": [
    "ds_mm.sst.mean(dim=\"lon\").plot.contourf(x=\"month\", levels=12, vmin=-2, vmax=30)"
   ]
  },
  {
   "cell_type": "markdown",
   "metadata": {},
   "source": [
    "_Diferença na Climatologia entre Janeiro e Julho_\n"
   ]
  },
  {
   "cell_type": "code",
   "execution_count": null,
   "metadata": {},
   "outputs": [],
   "source": [
    "(ds_mm.sst.sel(month=1) - ds_mm.sst.sel(month=7)).plot(vmax=10)"
   ]
  },
  {
   "cell_type": "markdown",
   "metadata": {},
   "source": [
    "#### Transformações\n",
    "\n",
    "Agora queremos _remover_ esta climatologia do conjunto de dados, para examinar o\n",
    "residual, chamado de _anomalia_, que é a parte interessante de uma perspectiva climática.\n",
    "A remoção da climatologia sazonal é um exemplo perfeito de uma\n",
    "transformação: opera sobre um grupo, mas não altera o tamanho do\n",
    "conjunto de dados. Aqui está uma maneira de codificá-lo:\n"
   ]
  },
  {
   "cell_type": "code",
   "execution_count": null,
   "metadata": {},
   "outputs": [],
   "source": [
    "def remove_time_mean(x):\n",
    "    return x - x.mean(dim=\"time\")\n",
    "\n",
    "\n",
    "ds_anom = ds.groupby(\"time.month\").map(remove_time_mean)\n",
    "ds_anom"
   ]
  },
  {
   "cell_type": "markdown",
   "metadata": {},
   "source": [
    "O Xarray facilita esses tipos de transformações, oferecendo suporte a *groupby* aritmético. Esse conceito é explicado mais facilmente com um exemplo:\n"
   ]
  },
  {
   "cell_type": "code",
   "execution_count": null,
   "metadata": {},
   "outputs": [],
   "source": [
    "gb = ds.groupby(\"time.month\")\n",
    "ds_anom = gb - gb.mean(dim=\"time\")\n",
    "ds_anom"
   ]
  },
  {
   "cell_type": "markdown",
   "metadata": {},
   "source": [
    "Agora podemos ver o sinal do clima sem a influência esmagadora do\n",
    "ciclo sazonal.\n",
    "\n",
    "_Série temporal em um único ponto no Atlântico Norte_"
   ]
  },
  {
   "cell_type": "code",
   "execution_count": null,
   "metadata": {},
   "outputs": [],
   "source": [
    "ds_anom.sst.sel(lon=300, lat=50).plot()"
   ]
  },
  {
   "cell_type": "markdown",
   "metadata": {},
   "source": [
    "_Diferença entre 1º de janeiro de 2018 e 1º de janeiro de 1960_\n"
   ]
  },
  {
   "cell_type": "code",
   "execution_count": null,
   "metadata": {},
   "outputs": [],
   "source": [
    "(ds_anom.sel(time=\"2018-01-01\") - ds_anom.sel(time=\"1960-01-01\")).sst.plot()"
   ]
  },
  {
   "cell_type": "markdown",
   "metadata": {},
   "source": [
    "## Relacionado ao *Grouby*: *Resample*, *Rolling*, *Coarsen*\n",
    "\n",
    "*Resample* em xarray é quase idêntico ao Pandas. É efetivamente uma operação *groupby* e usa a mesma sintaxe básica. Pode ser aplicado apenas ao índice das dimensões temporais. Aqui, calculamos a média de cinco anos:"
   ]
  },
  {
   "cell_type": "code",
   "execution_count": null,
   "metadata": {},
   "outputs": [],
   "source": [
    "resample_obj = ds_anom.resample(time=\"5Y\")\n",
    "resample_obj"
   ]
  },
  {
   "cell_type": "code",
   "execution_count": null,
   "metadata": {},
   "outputs": [],
   "source": [
    "ds_anom_resample = resample_obj.mean(dim=\"time\")\n",
    "ds_anom_resample"
   ]
  },
  {
   "cell_type": "code",
   "execution_count": null,
   "metadata": {},
   "outputs": [],
   "source": [
    "ds_anom.sst.sel(lon=300, lat=50).plot()\n",
    "ds_anom_resample.sst.sel(lon=300, lat=50).plot(marker=\"o\")"
   ]
  },
  {
   "cell_type": "markdown",
   "metadata": {},
   "source": [
    "<div class=\"alert alert-info\">\n",
    "    <strong>Nota:</strong> <code>resample</code> Funciona apenas com índices de séries temporais.\n",
    "</div>\n",
    "\n",
    "*Rolling* também é semelhante ao pandas, mas pode ser aplicado em qualquer dimensão. A função\n",
    "funciona com coordenadas lógicas.\n"
   ]
  },
  {
   "cell_type": "code",
   "execution_count": null,
   "metadata": {},
   "outputs": [],
   "source": [
    "ds_anom_rolling = ds_anom.rolling(time=12, center=True).mean()\n",
    "ds_anom_rolling"
   ]
  },
  {
   "cell_type": "code",
   "execution_count": null,
   "metadata": {},
   "outputs": [],
   "source": [
    "ds_anom.sst.sel(lon=300, lat=50).plot(label=\"monthly anom\")\n",
    "ds_anom_resample.sst.sel(lon=300, lat=50).plot(\n",
    "    marker=\"o\", label=\"5 year resample\"\n",
    ")\n",
    "ds_anom_rolling.sst.sel(lon=300, lat=50).plot(label=\"12 month rolling mean\")\n",
    "plt.legend()"
   ]
  },
  {
   "cell_type": "markdown",
   "metadata": {},
   "source": [
    "`coarsen` faz algo semelhante a `resample`, mas sem estar ciente do tempo.\n",
    "Ele opera em coordenadas lógicas apenas, mas pode trabalhar em várias dimensões por vez.\n"
   ]
  },
  {
   "cell_type": "code",
   "execution_count": null,
   "metadata": {},
   "outputs": [],
   "source": [
    "ds_anom_coarsen_time = ds_anom.coarsen(time=12).mean()\n",
    "\n",
    "ds_anom_rolling.sst.sel(lon=300, lat=50).plot(label=\"12 month rolling mean\")\n",
    "ds_anom_coarsen_time.sst.sel(lon=300, lat=50).plot(\n",
    "    marker=\"^\", label=\"12 item coarsen\"\n",
    ")\n",
    "plt.legend()"
   ]
  },
  {
   "cell_type": "code",
   "execution_count": null,
   "metadata": {},
   "outputs": [],
   "source": [
    "%%expect_exception\n",
    "ds_anom_coarsen_space = ds_anom.coarsen(lon=4, lat=4).mean()"
   ]
  },
  {
   "cell_type": "code",
   "execution_count": null,
   "metadata": {},
   "outputs": [],
   "source": [
    "ds_anom_coarsen_space = (\n",
    "    ds_anom.isel(lat=slice(0, -1)).coarsen(lon=4, lat=4).mean()\n",
    ")\n",
    "ds_anom_coarsen_space"
   ]
  },
  {
   "cell_type": "code",
   "execution_count": null,
   "metadata": {},
   "outputs": [],
   "source": [
    "ds_anom_coarsen_space.sst.isel(time=0).plot()"
   ]
  }
 ],
 "metadata": {
  "kernelspec": {
   "display_name": "Python 3",
   "language": "python",
   "name": "python3"
  },
  "language_info": {
   "codemirror_mode": {
    "name": "ipython",
    "version": 3
   },
   "file_extension": ".py",
   "mimetype": "text/x-python",
   "name": "python",
   "nbconvert_exporter": "python",
   "pygments_lexer": "ipython3",
   "version": "3.8.3"
  }
 },
 "nbformat": 4,
 "nbformat_minor": 4
}
