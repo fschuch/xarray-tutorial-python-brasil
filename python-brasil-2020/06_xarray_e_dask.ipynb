{
 "cells": [
  {
   "cell_type": "markdown",
   "metadata": {},
   "source": [
    "<img src=\"http://xarray.pydata.org/en/stable/_static/dataset-diagram-logo.png\" align=\"right\" width=\"30%\">\n",
    "\n",
    "# Dask e Xarray para computação paralela\n",
    "\n",
    "Este notebook demonstra um dos recursos mais poderosos do xarray: a capacidade\n",
    "de trabalhar em sintonia com matrizes dask e facilmente permitir que os usuários executem o código de análise em paralelo.\n",
    "\n",
    "Até o final deste notebook, veremos:\n",
    "\n",
    "1. Que as estruturas de dados Xarray `DataArray` e `Dataset` são parte das coleções Dask, isso é, podemos executar as funções de alto nível Dask como `dask.visualize(xarray_object)`;\n",
    "2. Que todas as operações integradas do xarray podem usar o dask de forma transparente;\n",
    "3. Que o Xarray fornece ferramentas para paralelizar facilmente funções personalizadas em blocos de objetos xarray apoiados em dask.\n",
    "\n",
    "## Conteúdo\n",
    "\n",
    "1. [Lendo dados com Dask e Xarray](#Lendo-dados-com-Dask-e-Xarray)\n",
    "2. [Computação paralela/streaming/lazy usando dask.array com Xarray](#Computação-paralela/streaming/lazy-usando-dask.array-com-Xarray)\n",
    "3. [Paralelização automática com apply_ufunc e map_blocks](#Paralelização-automática-com-apply_ufunc-e-map_blocks)\n",
    "\n",
    "Primeiro, vamos fazer as importações necessárias, iniciar um cluster dask e testar o painel\n"
   ]
  },
  {
   "cell_type": "code",
   "execution_count": null,
   "metadata": {},
   "outputs": [],
   "source": [
    "import expectexception\n",
    "import numpy as np\n",
    "import xarray as xr"
   ]
  },
  {
   "cell_type": "markdown",
   "metadata": {},
   "source": [
    "Primeiro, vamos configurar um `LocalCluster` usando` dask.distributed`.\n",
    "\n",
    "Você pode usar qualquer tipo de cluster dask. Esta etapa é completamente independente de\n",
    "xarray."
   ]
  },
  {
   "cell_type": "code",
   "execution_count": null,
   "metadata": {},
   "outputs": [],
   "source": [
    "from dask.distributed import Client\n",
    "\n",
    "client = Client()\n",
    "client"
   ]
  },
  {
   "cell_type": "markdown",
   "metadata": {},
   "source": [
    "<p>&#128070</p> Clique no link Dashboard acima.\n",
    "\n",
    "Vamos testar se o painel está funcionando.\n"
   ]
  },
  {
   "cell_type": "code",
   "execution_count": null,
   "metadata": {},
   "outputs": [],
   "source": [
    "import dask.array\n",
    "\n",
    "dask.array.ones(\n",
    "    (1000, 4), chunks=(2, 1)\n",
    ").compute()  # devemos ver a atividade no painel"
   ]
  },
  {
   "cell_type": "markdown",
   "metadata": {},
   "source": [
    "<a id='readwrite'></a>\n",
    "\n",
    "## Lendo dados com Dask e Xarray\n",
    "\n",
    "O argumento `chunks` para `open_dataset` e `open_mfdataset` permite que você leia conjuntos de dados como matrizes dask. Veja https://xarray.pydata.org/en/stable/dask.html#reading-and-writing-data para mais\n",
    "detalhes.\n"
   ]
  },
  {
   "cell_type": "code",
   "execution_count": null,
   "metadata": {},
   "outputs": [],
   "source": [
    "ds = xr.tutorial.open_dataset(\n",
    "    \"air_temperature\",\n",
    "    chunks={\n",
    "        \"lat\": 25,\n",
    "        \"lon\": 25,\n",
    "        \"time\": -1,\n",
    "    },  # isso diz ao xarray para abrir o conjunto de dados como um array dask\n",
    ")\n",
    "ds"
   ]
  },
  {
   "cell_type": "markdown",
   "metadata": {},
   "source": [
    "A representação para o DataArray `air` inclui agora também a representação dask."
   ]
  },
  {
   "cell_type": "code",
   "execution_count": null,
   "metadata": {},
   "outputs": [],
   "source": [
    "ds.air"
   ]
  },
  {
   "cell_type": "code",
   "execution_count": null,
   "metadata": {},
   "outputs": [],
   "source": [
    "ds.air.chunks"
   ]
  },
  {
   "cell_type": "markdown",
   "metadata": {},
   "source": [
    "**Dica**: Todas as variáveis em um `Dataset` _não_ necessariamente precisam ter o mesmo tamanho de blocos ao longo dimensões comuns.\n"
   ]
  },
  {
   "cell_type": "code",
   "execution_count": null,
   "metadata": {},
   "outputs": [],
   "source": [
    "mean = ds.air.mean(\"time\")  # nenhuma atividade no painel\n",
    "mean  # contém uma matriz dask"
   ]
  },
  {
   "cell_type": "markdown",
   "metadata": {},
   "source": [
    "This is true for all xarray operations including slicing\n"
   ]
  },
  {
   "cell_type": "code",
   "execution_count": null,
   "metadata": {},
   "outputs": [],
   "source": [
    "ds.air.isel(lon=1, lat=20)"
   ]
  },
  {
   "cell_type": "markdown",
   "metadata": {},
   "source": [
    "e operações mais complicadas...\n"
   ]
  },
  {
   "cell_type": "markdown",
   "metadata": {},
   "source": [
    "<a id='compute'></a>\n",
    "\n",
    "## Computação paralela/*streaming*/*lazy* usando dask.array com Xarray\n",
    "\n",
    "O Xarray envolve o dask perfeitamente para que todos os cálculos sejam adiados até que explicitamente requeridos:\n"
   ]
  },
  {
   "cell_type": "code",
   "execution_count": null,
   "metadata": {},
   "outputs": [],
   "source": [
    "mean = ds.air.mean(\"time\")  # nenhuma atividade no painel\n",
    "mean  # contém uma matriz dask"
   ]
  },
  {
   "cell_type": "markdown",
   "metadata": {},
   "source": [
    "Isso é verdadeiro para todas as operações de xarray, incluindo seleção em fatias\n"
   ]
  },
  {
   "cell_type": "code",
   "execution_count": null,
   "metadata": {},
   "outputs": [],
   "source": [
    "timeseries = (\n",
    "    ds.air.rolling(time=5).mean().isel(lon=1, lat=20)\n",
    ")  # nenhuma atividade no painel\n",
    "timeseries  # contém uma matriz dask"
   ]
  },
  {
   "cell_type": "code",
   "execution_count": null,
   "metadata": {},
   "outputs": [],
   "source": [
    "timeseries = ds.air.rolling(time=5).mean()  # nenhuma atividade no painel\n",
    "timeseries  # contém uma matriz dask"
   ]
  },
  {
   "cell_type": "markdown",
   "metadata": {},
   "source": [
    "### Obtendo valores concretos de arrays dask\n",
    "\n",
    "Em algum ponto, você desejará realmente obter valores concretos do dask.\n",
    "\n",
    "Existem duas maneiras de calcular valores em matrizes dask. Esses valores concretos são\n",
    "geralmente matrizes NumPy, mas podem ser uma matriz `pydata/sparse`, por exemplo.\n",
    "\n",
    "1. `.compute()` retorna um objeto xarray;\n",
    "2. `.load()` substitui a matriz dask no objeto xarray por uma matriz numpy. Isso é equivalente a `ds = ds.compute()`.\n"
   ]
  },
  {
   "cell_type": "code",
   "execution_count": null,
   "metadata": {},
   "outputs": [],
   "source": [
    "computed = mean.compute()  # atividade no painel\n",
    "computed  # contém agora valores reais NumPy"
   ]
  },
  {
   "cell_type": "markdown",
   "metadata": {},
   "source": [
    "Observe que `mean` ainda contém uma matriz dask\n"
   ]
  },
  {
   "cell_type": "code",
   "execution_count": null,
   "metadata": {},
   "outputs": [],
   "source": [
    "mean"
   ]
  },
  {
   "cell_type": "markdown",
   "metadata": {},
   "source": [
    "Mas se chamarmos `.load()`, `mean` agora conterá uma matriz numpy"
   ]
  },
  {
   "cell_type": "code",
   "execution_count": null,
   "metadata": {},
   "outputs": [],
   "source": [
    "mean.load()"
   ]
  },
  {
   "cell_type": "markdown",
   "metadata": {},
   "source": [
    "Vamos verificar outra vez...\n"
   ]
  },
  {
   "cell_type": "code",
   "execution_count": null,
   "metadata": {},
   "outputs": [],
   "source": [
    "mean"
   ]
  },
  {
   "cell_type": "markdown",
   "metadata": {},
   "source": [
    "**Dica:** `.persist()` carrega os valores na RAM distribuída. Isso é útil se\n",
    "você usará repetidamente um conjunto de dados para computação, mas é muito grande para\n",
    "carregar na memória local. Você verá uma tarefa persistente no painel.\n",
    "\n",
    "Veja https://docs.dask.org/en/latest/api.html#dask.persist para mais detalhes.\n"
   ]
  },
  {
   "cell_type": "markdown",
   "metadata": {},
   "source": [
    "### Extraindo dados subjacentes: `.values` vs` .data`\n",
    "\n",
    "Existem duas maneiras de extrair os dados subjacentes em um objeto xarray.\n",
    "\n",
    "1. `.values` sempre retornará uma matriz NumPy. Para objetos xarray apoiados em dask,\n",
    "    isso significa que compute sempre será chamado;\n",
    "2. `.data` retornará uma matriz Dask.\n",
    "\n",
    "#### Exercício\n",
    "\n",
    "Tente extrair um array dask de `ds.air`.\n"
   ]
  },
  {
   "cell_type": "code",
   "execution_count": null,
   "metadata": {},
   "outputs": [],
   "source": [
    "# Seu código aqui"
   ]
  },
  {
   "cell_type": "markdown",
   "metadata": {},
   "source": [
    "Agora extraia um array NumPy de `ds.air`. Você vê atividade de computação em seu\n",
    "painel de controle?\n"
   ]
  },
  {
   "cell_type": "markdown",
   "metadata": {},
   "source": [
    "## Estruturas de dados Xarray são coleções dask de primeira classe.\n",
    "\n",
    "Isso significa que você pode fazer coisas como `dask.compute(xarray_object)`,\n",
    "`dask.visualize(xarray_object)`, `dask.persist(xarray_object)`. Isso funciona para\n",
    "DataArrays e Datasets.\n",
    "\n",
    "#### Exercício\n",
    "\n",
    "Visualize o gráfico de tarefas para `média`.\n"
   ]
  },
  {
   "cell_type": "code",
   "execution_count": null,
   "metadata": {},
   "outputs": [],
   "source": [
    "# Seu código aqui"
   ]
  },
  {
   "cell_type": "markdown",
   "metadata": {},
   "source": [
    "Visualize o gráfico de tarefas para `mean.data`. É igual ao gráfico ao acima?\n"
   ]
  },
  {
   "cell_type": "code",
   "execution_count": null,
   "metadata": {},
   "outputs": [],
   "source": [
    "# Seu código aqui"
   ]
  },
  {
   "cell_type": "markdown",
   "metadata": {},
   "source": [
    "## Paralelização automática com apply_ufunc e map_blocks\n",
    "\n",
    "Quase todas as operações integradas do xarray funcionam em arrays Dask.\n",
    "\n",
    "Às vezes, a análise exige funções que não estão na API do xarray (por exemplo, scipy).\n",
    "Existem três maneiras de aplicar essas funções em paralelo em cada bloco de seu\n",
    "objeto xarray:\n",
    "\n",
    "1. Extraia arrays Dask de objetos xarray (`.data`) e use Dask diretamente, por exemplo,\n",
    "    (ʻApply_gufunc`, `map_blocks`,` map_overlap` ou `blockwise`);\n",
    "\n",
    "2. Use `xarray.apply_ufunc()` para aplicar funções que consomem e retornam matrizes NumPy;\n",
    "\n",
    "3. Use `xarray.map_blocks()`, `Dataset.map_blocks()` ou `DataArray.map_blocks()` para aplicar funções que consomem e retornam objetos xarray.\n",
    "\n",
    "O método que você usa depende basicamente do tipo de objetos de entrada esperados pela função que você está envolvendo e o nível de desempenho ou conveniência que você deseja."
   ]
  },
  {
   "cell_type": "markdown",
   "metadata": {},
   "source": [
    "### `map_blocks`\n",
    "\n",
    "`map_blocks` é inspirado na função `dask.array` de mesmo nome e permite você mapear uma função em blocos do objeto xarray (incluindo Datasets).\n",
    "\n",
    "No tempo de _computação_, sua função receberá um objeto Xarray com valores concretos\n",
    "(calculados) junto com os metadados apropriados. Esta função deve retornar um objeto xarray.\n",
    "\n",
    "Aqui está um exemplo:"
   ]
  },
  {
   "cell_type": "code",
   "execution_count": null,
   "metadata": {},
   "outputs": [],
   "source": [
    "def time_mean(obj):\n",
    "    # use a conveniente API do xarray aqui\n",
    "    # você pode converter para um dataframe do pandas e usar a API extensa do pandas\n",
    "    # ou use .plot() e plt.savefig para salvar visualizações em disco em paralelo.\n",
    "    return obj.mean(\"lat\")\n",
    "\n",
    "\n",
    "ds.map_blocks(time_mean)  # isso é lazy!"
   ]
  },
  {
   "cell_type": "code",
   "execution_count": null,
   "metadata": {},
   "outputs": [],
   "source": [
    "# isto irá calcular os valores e devolverá True se o cálculo funcionar como esperado\n",
    "ds.map_blocks(time_mean).identical(ds.mean(\"lat\"))"
   ]
  },
  {
   "cell_type": "markdown",
   "metadata": {},
   "source": [
    "#### Exercise\n",
    "\n",
    "Tente aplicar a seguinte função com `map_blocks`. Especifique `escala` como um\n",
    "argumento e `offset` como um kwarg.\n",
    "\n",
    "A docstring pode ajudar:\n",
    "https://xarray.pydata.org/en/stable/generated/xarray.map_blocks.html\n",
    "\n",
    "```python\n",
    "def time_mean_scaled(obj, scale, offset):\n",
    "    return obj.mean(\"lat\") * scale + offset\n",
    "```\n"
   ]
  },
  {
   "cell_type": "markdown",
   "metadata": {},
   "source": [
    "#### Funções mais avançadas\n",
    "\n",
    "`map_blocks` precisa saber _exatamente_ como o objeto retornado se parece.\n",
    "A função faz isso passando um objeto xarray de formato \"0\" para a função e examinando o\n",
    "resultado. Essa abordagem pode não funcionar em todos os casos. Para esses casos de uso avançados, `map_blocks` permite um kwarg` template`.\n",
    "Veja\n",
    "https://xarray.pydata.org/en/latest/dask.html#map-blocks para mais detalhes.\n"
   ]
  },
  {
   "cell_type": "markdown",
   "metadata": {},
   "source": [
    "### apply_ufunc\n",
    "\n",
    "`Apply_ufunc` é um wrapper mais avançado que é projetado para aplicar funções\n",
    "que esperam e retornam NumPy (ou outras matrizes). Por exemplo, isso incluiria\n",
    "toda a API do SciPy. Uma vez que `apply_ufunc` opera em NumPy ou objetos Dask, ele ignora a sobrecarga de usar objetos Xarray, tornando-o uma boa escolha para funções de desempenho crítico.\n",
    "\n",
    "`Apply_ufunc` pode ser um pouco complicado de acertar, pois opera em um nível mais baixo\n",
    "nível do que `map_blocks`. Por outro lado, o Xarray usa `apply_ufunc` internamente\n",
    "para implementar muito de sua API, o que significa que é bastante poderoso!\n"
   ]
  },
  {
   "cell_type": "markdown",
   "metadata": {},
   "source": [
    "### Um exemplo simples\n",
    "\n",
    "Funções simples que atuam independentemente em cada valor devem funcionar sem qualquer\n",
    "argumentos adicionais. No entanto, o manuseio do `dask` precisa ser explicitamente habilitado\n"
   ]
  },
  {
   "cell_type": "code",
   "execution_count": null,
   "metadata": {
    "tags": [
     "raises-exception"
    ]
   },
   "outputs": [],
   "source": [
    "%%expect_exception\n",
    "\n",
    "squared_error = lambda x, y: (x - y) ** 2\n",
    "\n",
    "xr.apply_ufunc(squared_error, ds.air, 1)"
   ]
  },
  {
   "cell_type": "markdown",
   "metadata": {},
   "source": [
    "Existem duas opções para o kwarg `dask`:\n",
    "\n",
    "1. `dask = \"allowed\"` (permitido): Arrays Dask são passados para a função do usuário. Essa é uma boa escolha se sua função pode lidar com arrays dask e não chamará compute explicitamente.\n",
    "2. `dask = \"paralelizado\"` (paralelizado). Isso aplica a função do usuário sobre os blocos do dask array usando `dask.array.blockwise`. Isso é útil quando sua função não pode lidar com matrizes dask nativamente (por exemplo, API scipy).\n",
    "\n",
    "Uma vez que `squared_error` pode lidar com arrays dask sem computá-los, especificamos\n",
    "`dask =\" permitido \"`."
   ]
  },
  {
   "cell_type": "code",
   "execution_count": null,
   "metadata": {},
   "outputs": [],
   "source": [
    "sqer = xr.apply_ufunc(\n",
    "    squared_error,\n",
    "    ds.air,\n",
    "    1,\n",
    "    dask=\"allowed\",\n",
    ")\n",
    "sqer  # DataArray apoiado por dask! com bons metadados!"
   ]
  },
  {
   "cell_type": "markdown",
   "metadata": {},
   "source": [
    "### Um exemplo mais complicado com uma função compatível com dask\n",
    "\n",
    "Para usar operações mais complexas que consideram alguns valores de matriz coletivamente,\n",
    "é importante entender a ideia de **dimensões centrais** do NumPy ao generalizar ufuncs. As dimensões principais são definidas como dimensões que não devem ser\n",
    "propagadas. Normalmente, eles correspondem às dimensões fundamentais sobre\n",
    "as quais uma operação é definida, por exemplo, o eixo somado em `np.sum`. Uma boa pista sobre a necessidade de dimensões centrais é a presença de um argumento do `axis` na\n",
    "função NumPy correspondente.\n",
    "\n",
    "Com `apply_ufunc`, as dimensões principais são reconhecidas pelo nome e, em seguida, movidas para a última dimensão de quaisquer argumentos de entrada antes de aplicar a função fornecida.\n",
    "Isso significa que para funções que aceitam um argumento de `axis`, você geralmente precisa para definir `axis = -1`.\n",
    "\n",
    "Vamos usar `dask.array.mean` como um exemplo de uma função que pode lidar com o dask\n",
    "arrays e usa um kwarg `axis`:\n"
   ]
  },
  {
   "cell_type": "code",
   "execution_count": null,
   "metadata": {},
   "outputs": [],
   "source": [
    "def time_mean(da):\n",
    "    return xr.apply_ufunc(\n",
    "        dask.array.mean,\n",
    "        da,\n",
    "        input_core_dims=[[\"time\"]],\n",
    "        dask=\"allowed\",\n",
    "        kwargs={\"axis\": -1},  # core dimensions are moved to the end\n",
    "    )\n",
    "\n",
    "\n",
    "time_mean(ds.air)"
   ]
  },
  {
   "cell_type": "code",
   "execution_count": null,
   "metadata": {},
   "outputs": [],
   "source": [
    "ds.air.mean(\"time\").identical(time_mean(ds.air))"
   ]
  },
  {
   "cell_type": "markdown",
   "metadata": {},
   "source": [
    "### Paralelizando funções que desconhecem dask\n",
    "\n",
    "Um recurso muito útil do `apply_ufunc` é a capacidade de aplicar funções arbitrárias\n",
    "em paralelo a cada bloco. Esta habilidade pode ser ativada usando `dask = \"parallelized\"`. Novamente, o Xarray precisa de muitos metadados extras, dependendo da função, argumentos extras como `output_dtypes` e `output_sizes` podem ser necessários.\n",
    "\n",
    "Usaremos `scipy.integrate.trapz` como um exemplo de uma função que não consegue\n",
    "lidar com matrizes dask e requer uma dimensão central:\n"
   ]
  },
  {
   "cell_type": "code",
   "execution_count": null,
   "metadata": {},
   "outputs": [],
   "source": [
    "import scipy as sp\n",
    "import scipy.integrate\n",
    "\n",
    "sp.integrate.trapz(ds.air.data)  # NÃO retorna uma matriz dask"
   ]
  },
  {
   "cell_type": "markdown",
   "metadata": {},
   "source": [
    "#### Exercício\n",
    "\n",
    "Use `apply_ufunc` para aplicar `sp.integrate.trapz` ao longo do eixo do `tempo` para que\n",
    "você obtenha o retorno de um array dask. Você precisará especificar `dask = \"parallelized\"` e `output_dtypes` (uma lista de `dtypes` por variável retornada)."
   ]
  },
  {
   "cell_type": "code",
   "execution_count": null,
   "metadata": {},
   "outputs": [],
   "source": [
    "# Seu código aqui"
   ]
  },
  {
   "cell_type": "markdown",
   "metadata": {},
   "source": [
    "## Veja mais detalhes\n",
    "\n",
    "1. https://xarray.pydata.org/en/stable/examples/apply_ufunc_vectorize_1d.html#\n",
    "2. https://docs.dask.org/en/latest/array-best-practices.html\n"
   ]
  }
 ],
 "metadata": {
  "kernelspec": {
   "display_name": "Python 3",
   "language": "python",
   "name": "python3"
  },
  "language_info": {
   "codemirror_mode": {
    "name": "ipython",
    "version": 3
   },
   "file_extension": ".py",
   "mimetype": "text/x-python",
   "name": "python",
   "nbconvert_exporter": "python",
   "pygments_lexer": "ipython3",
   "version": "3.8.3"
  }
 },
 "nbformat": 4,
 "nbformat_minor": 4
}
