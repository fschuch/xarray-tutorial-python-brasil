{
 "cells": [
  {
   "cell_type": "markdown",
   "metadata": {},
   "source": [
    "<img src=\"http://xarray.pydata.org/en/stable/_static/dataset-diagram-logo.png\" align=\"right\" width=\"30%\">\n",
    "\n",
    "# Introdução\n",
    "\n",
    "Desejo boas-vindas ao tutorial **Xarray**.\n",
    "\n",
    "Xarray é um pacote Python de código aberto que visa tornar o trabalho com arranjos de dados catalogados uma tarefa simples, eficiente e até mesmo divertida!\n",
    "\n",
    "Xarray introduz *labels* (mapeamento, rótulo, catálogo) como forma de expressar dimensões, coordenadas e atributos construidos acima de arranjos brutos do tipo [NumPy](https://numpy.org/),\n",
    "o que permite um fluxo de trabalho e desenvolvimento mais intuitivo, conciso e a prova de erros.\n",
    "O pacote inclui uma biblioteca grande e crescente de funções aplicadas para análises e visualização com essas estruturas de dados.\n",
    "\n",
    "Xarray é inspirado e inclusive toma várias funcionalidades emprestadas do [pandas](https://pandas.pydata.org/), o popular pacote para manipulação de dados tabelados.\n",
    "Também é especialmente adaptado para funcionar com [arquivos netCDF](http://www.unidata.ucar.edu/software/netcdf), que foram a fonte do modelo de dados em Xarray, além de integrar-se perfeitamente com [Dask](http://dask.org/) para computação paralela.\n",
    "\n",
    "## Configurando o Tutorial\n",
    "\n",
    "Esse tutorial foi projetado para rodar no [Binder](https://mybinder.org/).\n",
    "O serviço permite executar totalmente na nuvem, nenhuma instalação extra é necessária.\n",
    "Para tanto, basta clicar [aqui](https://mybinder.org/v2/gh/fschuch/xarray-tutorial-python-brasil/master?urlpath=lab):\n",
    "[![Binder](https://mybinder.org/badge_logo.svg)](https://mybinder.org/v2/gh/fschuch/xarray-tutorial-python-brasil/master?urlpath=lab)\n",
    "\n",
    "Se você prefere instalar o tutorial localmente, siga os seguintes passos:\n",
    "\n",
    "1. Clone o repositório:\n",
    "\n",
    "   ```\n",
    "   git clone https://github.com/fschuch/xarray-tutorial-python-brasil\n",
    "   ```\n",
    "\n",
    "1. Instale o ambiente. O repositório inclui um arquivo `environment.yaml` no subdiretório `.binder` que contém uma lista de todos os pacotes necessários para executar esse tutorial.\n",
    "   Para instalá-los usando conda, use o comando:\n",
    "\n",
    "   ```\n",
    "   conda env create -f .binder/environment.yml\n",
    "   conda activate xarray\n",
    "   ```\n",
    "\n",
    "1. Inicie uma seção Jupyter:\n",
    "\n",
    "   ```\n",
    "   jupyter lab\n",
    "   ```\n",
    "\n",
    "## Material complementar\n",
    "\n",
    "1. Referências\n",
    "\n",
    "    - [Documentação](http://xarray.pydata.org/en/stable/)\n",
    "    - [Overview: Why xarray?](http://xarray.pydata.org/en/stable/why-xarray.html)\n",
    "    - [Repositório do Xarray](https://github.com/pydata/xarray)\n",
    "\n",
    "1. Peça ajuda:\n",
    "\n",
    "    - Use a seção [python-xarray](https://stackoverflow.com/questions/tagged/python-xarray) no StackOverflow\n",
    "    - [GitHub Issues](https://github.com/pydata/xarray/issues) para reportar bugs e requisitar novas funcionalidades\n",
    "\n",
    "\n",
    "## Estrutura do Tutorial\n",
    "\n",
    "O material é composto por múltiplos Jupyter Notebooks. Eles, por sua vez, são compostos por uma mistura de código, texto, visualizações e exercícios.\n",
    "\n",
    "Se essa é sua primeira experiência com JupyterLab, não se preocupe, ele é bastante simular com o Jupyter Notebook clássico. Se essa é a sua primeira vez com um Notebook, aqui vai uma introdução rápida:\n",
    "\n",
    "1. Existem células em dois modos: comando e edição;\n",
    "1. A partir do modo de comando, precione `Enter` para editar uma célular (assim como essa célula em Markdown);\n",
    "1. Do modo de edição, precione `Esc` para retornar ao modo de comando;\n",
    "1. Precione `Shift + Enter` para executar a célula e mover o cursor para a célula seguinte;\n",
    "1. A barra de ferramentas contém botões para executar, converter, criar, quebrar e mesclar células.\n",
    "\n",
    "O conteúdo abordado será o seguinte:\n",
    "\n",
    "1. [Introdução + Estruturas para dados Multidimensionais](./01_estruturas_de_dados_e_io.ipynb)\n",
    "1. [Trabalhando com dados mapeados](./02_trabalhando_com_dados_mapeados.ipynb)\n",
    "1. [Computação com Xarray](03_calculos_com_xarray.ipynb)\n",
    "1. [Gráficos e Visualização](04_graficos_e_visualizacao.ipynb)\n",
    "1. [Introdução ao Dask](05_introducao_ao_dask.ipynb)\n",
    "1. [Dask e Xarray para computação paralela](06_xarray_e_dask.ipynb)\n",
    "\n",
    "## Exercício: Exibir *Olá, mundo!*\n",
    "\n",
    "Cada notebook terá exercícios para você resolver. Você receberá um bloco de código vazio ou parcialmente preenchido, seguido por uma célula oculta com a solução. Por exemplo:\n",
    "\n",
    "Imprima o texto \"Olá, mundo!\"."
   ]
  },
  {
   "cell_type": "code",
   "execution_count": null,
   "metadata": {},
   "outputs": [],
   "source": [
    "# Seu código aqui"
   ]
  },
  {
   "cell_type": "markdown",
   "metadata": {},
   "source": [
    "Em alguns casos, a próxima célula terá a solução. Clique nas elipses para\n",
    "expandir a solução, e sempre certifique-se de executar a célula de solução, no caso\n",
    "das seções posteriores do notebook dependerem da saída da solução.\n"
   ]
  },
  {
   "cell_type": "code",
   "execution_count": null,
   "metadata": {
    "jupyter": {
     "source_hidden": true
    }
   },
   "outputs": [],
   "source": [
    "print(\"Olá, mundo!\")"
   ]
  },
  {
   "cell_type": "markdown",
   "metadata": {},
   "source": [
    "## Indo além\n",
    "\n",
    "Os notebooks acima foram projetados para abordar o básico do Xarray desde do início\n",
    "ao fim. Para lhe ajudar a ir além, também criamos uma lista de notebooks que\n",
    "demonstram aplicações do Xarray no mundo real em uma variedade de estudos de caso.\n",
    "Eles não precisam ser explorados em qualquer sequência particular, em vez disso, eles se destinam a\n",
    "fornecem uma amostra de como o Xarray pode ser usado.\n",
    "\n",
    "### Xarray para manipulação de modelos meteorológicos\n",
    "\n",
    "1. [Global Mean Surface Temperature from CMIP6](https://binder.pangeo.io/v2/gh/pangeo-gallery/cmip6/binder?urlpath=git-pull?repo=https://github.com/pangeo-gallery/cmip6%26amp%3Burlpath=lab/tree/cmip6):\n",
    "   Start with `global_mean_surface_temp.ipynb` then feel free to explore the\n",
    "   rest of the notebooks.\n",
    "   <!-- 1. [Natural climate variability in the CESM Large Ensemble](https://aws-uswest2-binder.pangeo.io/v2/gh/NCAR/cesm-lens-aws/master?urlpath=lab) -->\n",
    "1. [National Water Model Streamflow Analysis](https://aws-uswest2-binder.pangeo.io/v2/gh/rsignell-usgs/esip-gallery/binder?urlpath=git-pull?repo=https://github.com/rsignell-usgs/esip-gallery%26amp%3Burlpath=lab/tree/esip-gallery):\n",
    "   Start with `02_National_Water_Model.ipynb` then feel free to explore the rest\n",
    "   of the notebooks.\n",
    "\n",
    "### Xarray e dados de satélites\n",
    "\n",
    "1. [Landsat-8 on AWS](https://aws-uswest2-binder.pangeo.io/v2/gh/pangeo-data/landsat-8-tutorial-gallery/master/?urlpath=git-pull?repo=https://github.com/pangeo-data/landsat-8-tutorial-gallery%26amp%3Burlpath=lab/tree/landsat-8-tutorial-gallery/landsat8.ipynb%3Fautodecode)\n",
    "\n",
    "### Xarray e a modelagem estatística bayesiana\n",
    "\n",
    "1. [Xarray and PyMC3](https://mybinder.org/v2/gh/pymc-devs/pymc3/master?filepath=%2Fdocs%2Fsource%2Fnotebooks):\n",
    "   Start with `multilevel_modeling.ipynb` then feel free to explore the rest of\n",
    "   the notebooks. Also checkout [Arviz](https://arviz-devs.github.io/arviz/)\n",
    "   which uses Xarray as its data model.\n"
   ]
  }
 ],
 "metadata": {
  "kernelspec": {
   "display_name": "Python 3",
   "language": "python",
   "name": "python3"
  },
  "language_info": {
   "codemirror_mode": {
    "name": "ipython",
    "version": 3
   },
   "file_extension": ".py",
   "mimetype": "text/x-python",
   "name": "python",
   "nbconvert_exporter": "python",
   "pygments_lexer": "ipython3",
   "version": "3.8.3"
  }
 },
 "nbformat": 4,
 "nbformat_minor": 4
}
