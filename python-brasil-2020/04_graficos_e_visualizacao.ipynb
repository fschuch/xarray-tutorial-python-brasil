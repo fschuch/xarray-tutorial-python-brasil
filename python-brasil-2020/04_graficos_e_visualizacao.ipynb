{
 "cells": [
  {
   "cell_type": "markdown",
   "metadata": {
    "toc": true
   },
   "source": [
    "<img src=\"http://xarray.pydata.org/en/stable/_static/dataset-diagram-logo.png\" align=\"right\" width=\"30%\">\n",
    "\n",
    "# Gráficos e visualização\n",
    "\n",
    "No final desta lição, você aprenderá:\n",
    "\n",
    "1. Como usar a conveniente interface de plotagem do xarray, construída sobre [matplotlib](https://matplotlib.org/), para visualizar seus conjuntos de dados;\n",
    "2. E também como `hvplot` fornece uma interface igualmente conveniente para gráficos baseados em [bokeh](https://docs.bokeh.org/en/latest/index.html).\n",
    "\n",
    "## Conteúdo\n",
    "\n",
    "1. [Basic plotting](#basic)\n",
    "1. [Histograms](#hist)\n",
    "1. [2D plots](#2d)\n",
    "1. [1D line plots](#1d)\n",
    "1. [Faceting or multiple subplots](#facet)\n",
    "1. [Geography: matplotlib and cartopy](#geo)\n",
    "1. [Interactive bokeh plots using hvplot](#bokeh)\n"
   ]
  },
  {
   "cell_type": "code",
   "execution_count": null,
   "metadata": {
    "ExecuteTime": {
     "end_time": "2020-06-11T02:27:32.419178Z",
     "start_time": "2020-06-11T02:27:30.533425Z"
    }
   },
   "outputs": [],
   "source": [
    "import matplotlib as mpl\n",
    "import matplotlib.pyplot as plt\n",
    "import numpy as np\n",
    "import xarray as xr"
   ]
  },
  {
   "cell_type": "code",
   "execution_count": null,
   "metadata": {
    "ExecuteTime": {
     "end_time": "2020-06-11T02:27:32.437582Z",
     "start_time": "2020-06-11T02:27:32.421755Z"
    }
   },
   "outputs": [],
   "source": [
    "xr.set_options(display_style=\"html\")"
   ]
  },
  {
   "cell_type": "markdown",
   "metadata": {},
   "source": [
    "## Carregar dados\n",
    "\n",
    "Primeiro, vamos carregar um conjunto de dados de tutorial para visualizar:\n"
   ]
  },
  {
   "cell_type": "code",
   "execution_count": null,
   "metadata": {
    "ExecuteTime": {
     "end_time": "2020-06-11T02:27:37.555998Z",
     "start_time": "2020-06-11T02:27:37.357785Z"
    }
   },
   "outputs": [],
   "source": [
    "ds = xr.tutorial.open_dataset(\"air_temperature.nc\").rename({\"air\": \"Tair\"})\n",
    "\n",
    "# vamos adicionar um campo gradiente com os atributos apropriados\n",
    "ds[\"dTdx\"] = ds.Tair.differentiate(\"lon\") / 110e3 / np.cos(ds.lat * np.pi / 180)\n",
    "ds[\"dTdy\"] = ds.Tair.differentiate(\"lat\") / 105e3\n",
    "ds.dTdx.attrs = {\"long_name\": \"$∂T/∂x$\", \"units\": \"°C/m\"}\n",
    "ds.dTdy.attrs = {\"long_name\": \"$∂T/∂y$\", \"units\": \"°C/m\"}\n",
    "\n",
    "ds"
   ]
  },
  {
   "cell_type": "markdown",
   "metadata": {},
   "source": [
    "Esse conjunto de dados tem três \"variáveis de dados\", `Tair` é a temperatura do ar e` dTdx`\n",
    "e `dTdy` são gradientes horizontais desse campo de temperatura. Os três \"dados\n",
    "variáveis\" são tridimensionais com dimensões `(tempo, lat, lon)`.\n"
   ]
  },
  {
   "cell_type": "markdown",
   "metadata": {},
   "source": [
    "<a id='basic'></a>\n",
    "\n",
    "## Plotagem básica: .plot()\n",
    "\n",
    "Os objetos DataArray têm um método `plot`. Este método cria gráficos usando\n",
    "`matplotlib`, então todo o seu conhecimento matplotlib existente será útil aqui (por exemplo, [Gráficos com qualidade de publicação em Python com Matplotlib](https://www.fschuch.com/blog/2020/10/14/graficos-com-qualidade-de-publicacao-em-python-com-matplotlib/)).\n",
    "\n",
    "Por padrão `.plot ()` produz:\n",
    "\n",
    "1. Um gráfico de linha para dados 1-D usando `plt.plot()`;\n",
    "2. Um gráfico `pcolormesh` para dados 2-D usando` plt.pcolormesh()`;\n",
    "3. Um histograma para tudo o mais usando `plt.hist()`.\n"
   ]
  },
  {
   "cell_type": "markdown",
   "metadata": {},
   "source": [
    "<a id='hist'></a>\n",
    "\n",
    "## Histogramas\n",
    "\n",
    "`Tair` é tridimensional, então temos um histograma dos valores de temperatura. Repare na\n",
    "descrição no eixo x. Um dos recursos de plotagem convenientes do xarray é que ele\n",
    "usa os atributos (`attrs`) de `Tair` para rotular adequadamente os eixos e a barras de cores.\n"
   ]
  },
  {
   "cell_type": "code",
   "execution_count": null,
   "metadata": {
    "ExecuteTime": {
     "end_time": "2020-05-30T13:15:04.121767Z",
     "start_time": "2020-05-30T13:15:03.884190Z"
    }
   },
   "outputs": [],
   "source": [
    "ds.Tair.plot()"
   ]
  },
  {
   "cell_type": "markdown",
   "metadata": {},
   "source": [
    "Você pode passar argumentos extras para a chamada `hist()` subjacente. Veja a [documentação matplotlib](https://matplotlib.org/3.2.1/api/_as_gen/matplotlib.pyplot.hist.html) para\n",
    "todos os argumentos de palavra-chave possíveis.\n",
    "\n",
    "**Dica:** Observe que os valores retornados são exatamente o que matplotlib retornaria.\n",
    "\n",
    "#### Exercício\n",
    "\n",
    "Atualize o gráfico acima para mostrar 50 colunas não preenchidas em vez de barras preenchidas.\n"
   ]
  },
  {
   "cell_type": "markdown",
   "metadata": {},
   "source": [
    "<a id='2d'></a>\n",
    "\n",
    "## Plotagens 2D\n",
    "\n",
    "Agora vamos explorar gráficos 2D. Vamos selecionar um único passo de tempo de `Tair` para\n",
    "visualizar:\n"
   ]
  },
  {
   "cell_type": "code",
   "execution_count": null,
   "metadata": {
    "ExecuteTime": {
     "end_time": "2020-05-30T13:15:04.364426Z",
     "start_time": "2020-05-30T13:15:04.124100Z"
    }
   },
   "outputs": [],
   "source": [
    "ds.Tair.isel(time=1).plot()"
   ]
  },
  {
   "cell_type": "markdown",
   "metadata": {},
   "source": [
    "Observe quanta informação há nesse gráfico (para apenas uma linha de código)!\n",
    "\n",
    "Os eixos `x` e `y` são rotulados com nomes completos - \"Latitude\", \"Longitude\" - junto\n",
    "com as unidades. A barra de cores tem um rótulo legal, novamente com unidades. E o título nos diz o carimbo de data/hora dos dados apresentados.\n",
    "\n",
    "`plot` recebe muitos argumentos de palavras-chave e é bastante sofisticado (veja\n",
    "https://xarray.pydata.org/en/stable/generated/xarray.plot.pcolormesh.html).\n",
    "\n",
    "Aqui está uma figura mais complicada que define explicitamente `tempo` como o eixo x,\n",
    "personaliza a barra de cores e sobrepõe dois contornos em níveis específicos.\n",
    "\n",
    "**Dica:** Outras opções para gráficos 2D incluem `.plot.contour`,` .plot.contourf`,\n",
    "`.plot.imshow`.\n"
   ]
  },
  {
   "cell_type": "code",
   "execution_count": null,
   "metadata": {
    "ExecuteTime": {
     "end_time": "2020-06-11T02:52:00.680192Z",
     "start_time": "2020-06-11T02:52:00.365423Z"
    }
   },
   "outputs": [],
   "source": [
    "ds.Tair.isel(lon=1).plot(\n",
    "    x=\"time\",  # coordenada para traçar no eixo x do gráfico\n",
    "    robust=True,  # definir os limites da barra de cores para o 2º e 98º percentil dos dados\n",
    "    cbar_kwargs={\n",
    "        \"orientation\": \"horizontal\",\n",
    "        \"label\": \"custom label\",\n",
    "        \"pad\": 0.2,\n",
    "    },  # passados para plt.colorbar\n",
    ")"
   ]
  },
  {
   "cell_type": "markdown",
   "metadata": {},
   "source": [
    "### Exercício\n",
    "\n",
    "Atualize o gráfico acima para usar um mapa de cores matplotlib diferente.\n"
   ]
  },
  {
   "cell_type": "markdown",
   "metadata": {},
   "source": [
    "### Exercício\n",
    "\n",
    "Agora sobreponha um gráfico de contorno no topo do gráfico anterior.\n"
   ]
  },
  {
   "cell_type": "markdown",
   "metadata": {},
   "source": [
    "<a id='1d'></a>\n",
    "\n",
    "## Gráficos de linha 1D\n",
    "\n",
    "Xarray também é capaz de traçar linhas envolvendo `plt.plot()`. Como nos exemplos anteriores, os eixos são rotulados e os argumentos de palavras-chave podem ser passados para o chamada `matplotlib` subjacente.\n"
   ]
  },
  {
   "cell_type": "code",
   "execution_count": null,
   "metadata": {
    "ExecuteTime": {
     "end_time": "2020-06-11T02:49:58.450746Z",
     "start_time": "2020-06-11T02:49:58.282708Z"
    }
   },
   "outputs": [],
   "source": [
    "ds.Tair.isel(time=1, lon=10).plot(marker=\"o\")"
   ]
  },
  {
   "cell_type": "markdown",
   "metadata": {},
   "source": [
    "Digamos que queremos comparar gráficos lineares de temperatura em três diferentes\n",
    "latitudes. Podemos usar o kwarg `hue` para fazer isso.\n"
   ]
  },
  {
   "cell_type": "code",
   "execution_count": null,
   "metadata": {
    "ExecuteTime": {
     "end_time": "2020-06-11T02:55:01.478139Z",
     "start_time": "2020-06-11T02:55:01.290510Z"
    }
   },
   "outputs": [],
   "source": [
    "ds.Tair.isel(time=1).sel(lat=[40, 50, 60], method=\"nearest\").plot(\n",
    "    x=\"lon\", hue=\"lat\"\n",
    ")"
   ]
  },
  {
   "cell_type": "markdown",
   "metadata": {},
   "source": [
    "## Costumização\n",
    "\n",
    "Todas as funções de plotagem do xarray usam uma grande lista de `kwargs` que personalizam seu\n",
    "comportamento. Uma lista completa pode ser vista aqui:\n",
    "https://xarray.pydata.org/en/stable/generated/xarray.plot.pcolormesh.html.\n",
    "\n",
    "Digamos que xarray não envolve todas as funcionalidades disponíveis em matplotlib.\n",
    "A estratégia geral para fazer plotagens que são mais complexas que o exemplos acima são\n",
    "\n",
    "1. Crie um eixo matplotlib `ax`;\n",
    "2. Use xarray para fazer uma aproximação do gráfico final especificando `Ax = ax`;\n",
    "3. Use os métodos `ax` para personalizar totalmente o gráfico.\n"
   ]
  },
  {
   "cell_type": "markdown",
   "metadata": {},
   "source": [
    "<a id='facet'></a>\n",
    "\n",
    "## Facetar\n",
    "\n",
    "Facetar (*faceting*) é a arte de apresentar \"pequenos múltiplos\" dos dados. É uma\n",
    "maneira eficaz de visualizar variações de dados 3D onde as fatias 2D são\n",
    "visualizado em um painel (subplot) e a terceira dimensão é variada entre\n",
    "painéis.\n",
    "\n",
    "É aqui que o xarray realmente aumenta a funcionalidade do matplotlib. Nós vamos usar a média mensal para ilustrar"
   ]
  },
  {
   "cell_type": "code",
   "execution_count": null,
   "metadata": {
    "ExecuteTime": {
     "end_time": "2020-06-11T03:00:50.654212Z",
     "start_time": "2020-06-11T03:00:50.534996Z"
    }
   },
   "outputs": [],
   "source": [
    "monthly_means = ds.groupby(\"time.month\").mean()\n",
    "# as reduções de agrupamento de xarray dropam atributos. Vamos atribuí-los de volta para obter bons rótulos.\n",
    "monthly_means.Tair.attrs = ds.Tair.attrs\n",
    "monthly_means"
   ]
  },
  {
   "cell_type": "markdown",
   "metadata": {},
   "source": [
    "Observe que as dimensões agora são `lat, lon, month`.\n",
    "\n",
    "Queremos visualizar como a temperatura média mensal do ar varia com o mês do\n",
    "o ano.\n",
    "\n",
    "A maneira mais simples de facetar é especificar os kwargs `row` ou` col` que devem ser um nome de dimensão. Aqui usamos `month` para que cada painel ou a \"faceta\" do gráfico, que apresenta o campo de temperatura média em um determinado mês. Já que um gráfico de 12 colunas seria muito pequeno para interpretar, podemos \"embrulhar\" as facetas em múltiplas linhas usando `col_wrap`:"
   ]
  },
  {
   "cell_type": "code",
   "execution_count": null,
   "metadata": {
    "ExecuteTime": {
     "end_time": "2020-06-11T03:01:53.163195Z",
     "start_time": "2020-06-11T03:01:51.194451Z"
    }
   },
   "outputs": [],
   "source": [
    "fg = monthly_means.Tair.plot(\n",
    "    col=\"month\",\n",
    "    col_wrap=4,  # cada linha terá no máximo 4 colunas\n",
    ")"
   ]
  },
  {
   "cell_type": "markdown",
   "metadata": {},
   "source": [
    "Todas as personalizações usuais são possíveis:\n"
   ]
  },
  {
   "cell_type": "code",
   "execution_count": null,
   "metadata": {
    "ExecuteTime": {
     "end_time": "2020-06-11T03:02:02.757064Z",
     "start_time": "2020-06-11T03:02:00.759775Z"
    }
   },
   "outputs": [],
   "source": [
    "fg = monthly_means.Tair.plot(\n",
    "    col=\"month\",\n",
    "    col_wrap=4,\n",
    "    # Os kwargs restantes personalizam o gráfico da mesma forma que vimos antes\n",
    "    robust=True,\n",
    "    cmap='RdYlBu_r',\n",
    "    cbar_kwargs={\n",
    "        \"orientation\": \"horizontal\",\n",
    "        \"shrink\": 0.8,\n",
    "        \"aspect\": 40,\n",
    "        \"pad\": 0.1,\n",
    "    },\n",
    ")"
   ]
  },
  {
   "cell_type": "markdown",
   "metadata": {},
   "source": [
    "O objeto FacetGrid retornado `fg` tem muitas propriedades e métodos úteis, por exemplo:\n",
    "\n",
    "1. `fg.fig` fornece um identificador para a figura;\n",
    "2. `fg.axes` é uma matriz de objetos numpy para lidar com cada eixo individualmente;\n",
    "3. `fg.set_xlabels` e` fg.set_ylabels` podem ser usados para alterar os rótulos dos eixos.\n",
    "\n",
    "Consulte https://xarray.pydata.org/en/stable/api.html#faceting para obter uma lista completa.\n",
    "\n",
    "### Exercício\n",
    "\n",
    "Use esses métodos para definir um título para a figura usando `suptitle`, bem como\n",
    "mude os rótulos dos eixos x e y.\n"
   ]
  },
  {
   "cell_type": "code",
   "execution_count": null,
   "metadata": {},
   "outputs": [],
   "source": [
    "fg"
   ]
  },
  {
   "cell_type": "markdown",
   "metadata": {},
   "source": [
    "### Modificando todas as facetas de uma figura\n",
    "\n",
    "O objeto FacetGrid tem alguns métodos mais avançados que permitem personalizar ainda mais as figuras.\n",
    "\n",
    "Aqui nós ilustramos o uso de `map` e` map_dataarray` que permitem mapear\n",
    "plotagem de funções para um `FacetGrid` existente. As funções passadas para `map` e\n",
    "`map_dataarray` deve ter uma assinatura particular. Veja a docstring para mais\n",
    "detalhes.\n",
    "\n",
    "Alternativamente, pode-se fazer um loop em `fg.axes` e modificar cada subtrama individual como\n",
    "necessário:\n"
   ]
  },
  {
   "cell_type": "code",
   "execution_count": null,
   "metadata": {
    "ExecuteTime": {
     "end_time": "2020-06-11T03:06:40.368314Z",
     "start_time": "2020-06-11T03:06:38.735106Z"
    }
   },
   "outputs": [],
   "source": [
    "fg = monthly_means.Tair.plot(col=\"month\", col_wrap=4)\n",
    "\n",
    "# Use isto para traçar contornos em cada painel\n",
    "# Observe que esta chamada de plotagem usa os gradientes DataArray originais\n",
    "fg.map_dataarray(\n",
    "    xr.plot.contour, x=\"lon\", y=\"lat\", colors=\"k\", levels=13, add_colorbar=False\n",
    ")\n",
    "\n",
    "# Adicione um ponto (ou qualquer outra coisa!)\n",
    "fg.map(lambda: plt.plot(250, 40, markersize=20, marker=\".\", color=\"w\"))"
   ]
  },
  {
   "cell_type": "markdown",
   "metadata": {},
   "source": [
    "### Dica para os painéis: use a facetação para plotar múltiplos DataArrays\n",
    "\n",
    "A facetação pode ser usada para plotar múltiplos DataArrays em um Dataset. O truque é\n",
    "usar `to_array()` para converter um Dataset em um DataArray e então plotar.\n",
    "\n",
    "Esse truque só funciona quando é sensato usar o mesmo mapa e escala de cores para todos os DataArrays como com `dTdx` e `dTdy`:\n"
   ]
  },
  {
   "cell_type": "code",
   "execution_count": null,
   "metadata": {
    "ExecuteTime": {
     "end_time": "2020-06-11T03:05:00.036216Z",
     "start_time": "2020-06-11T03:04:59.973964Z"
    }
   },
   "outputs": [],
   "source": [
    "gradients = monthly_means[[\"dTdx\", \"dTdy\"]].to_array(\"gradient\")\n",
    "gradients"
   ]
  },
  {
   "cell_type": "code",
   "execution_count": null,
   "metadata": {
    "ExecuteTime": {
     "end_time": "2020-06-11T03:05:02.894528Z",
     "start_time": "2020-06-11T03:05:01.454396Z"
    }
   },
   "outputs": [],
   "source": [
    "fg = gradients.isel(month=slice(None, None, 3)).plot.contourf(\n",
    "    levels=13,\n",
    "    col=\"month\",\n",
    "    row=\"gradient\",\n",
    "    robust=True,\n",
    "    cmap=mpl.cm.coolwarm,\n",
    "    cbar_kwargs={\n",
    "        \"orientation\": \"horizontal\",\n",
    "        \"shrink\": 0.8,\n",
    "        \"aspect\": 40,\n",
    "        \"label\": \"Gradient [°C/m]\",\n",
    "    },\n",
    ")"
   ]
  },
  {
   "cell_type": "markdown",
   "metadata": {},
   "source": [
    "<a id=\"geo\"></a>\n",
    "\n",
    "## Geografia: Matplotlib e Cartopy\n",
    "\n",
    "Uma vez que a funcionalidade de plotagem padrão do xarray se baseia em matplotlib, podemos perfeitamente usar `Cartopy` para fazer mapas legais:\n",
    "\n",
    "1. Especifique uma `projeção` para o gráfico ao criar uma nova figura `fig` com eixo `axis`;\n",
    "2. Peça explicitamente ao xarray para plotar para o eixo `axis` passando o kwarg `ax = axis`;\n",
    "3. Especifique a projeção dos dados usando `transform` (`PlateCarree` aqui) em `.plot ()`.\n"
   ]
  },
  {
   "cell_type": "code",
   "execution_count": null,
   "metadata": {
    "ExecuteTime": {
     "end_time": "2020-06-11T03:17:25.685880Z",
     "start_time": "2020-06-11T03:17:25.512169Z"
    }
   },
   "outputs": [],
   "source": [
    "import cartopy.crs as ccrs\n",
    "\n",
    "fig, axis = plt.subplots(\n",
    "    1, 1, subplot_kw=dict(projection=ccrs.Orthographic(-90, 30))\n",
    ")\n",
    "\n",
    "ds.Tair.isel(time=1).plot(\n",
    "    ax=axis,\n",
    "    transform=ccrs.PlateCarree(),  # Isso é importante!\n",
    "    # As opções padrões que vimos antes\n",
    "    cbar_kwargs={\"orientation\": \"horizontal\", \"shrink\": 0.7},\n",
    "    robust=True,\n",
    ")\n",
    "axis.coastlines()  # função cartopy"
   ]
  },
  {
   "cell_type": "markdown",
   "metadata": {},
   "source": [
    "### Mapas facetados\n",
    "\n",
    "Podemos fazer mapas facetados. Uma vez que `FacetGrid` cria os eixos para os quais traça, nós\n",
    "precisa passar o kwarg `projection` em `subplot_kws`. Isso garante que os subplots são configuradas corretamente para *cartopy*.\n"
   ]
  },
  {
   "cell_type": "code",
   "execution_count": null,
   "metadata": {
    "ExecuteTime": {
     "end_time": "2020-06-11T03:22:50.356379Z",
     "start_time": "2020-06-11T03:22:50.044591Z"
    }
   },
   "outputs": [],
   "source": [
    "fg = monthly_means.Tair.isel(month=[1, 2, 3]).plot(\n",
    "    col=\"month\",\n",
    "    transform=ccrs.PlateCarree(),  # Lembre-se de fornecer isso\n",
    "    subplot_kws={\n",
    "        \"projection\": ccrs.LambertConformal(\n",
    "            central_longitude=-95, central_latitude=45\n",
    "        )\n",
    "    },\n",
    "    cbar_kwargs={\"orientation\": \"horizontal\", \"shrink\": 0.8, \"aspect\": 40},\n",
    "    robust=True,\n",
    ")\n",
    "\n",
    "# Vamos adicionar uma linha costeira a cada eixo\n",
    "# ótimo motivo para usar FacetGrid.map\n",
    "fg.map(lambda: plt.gca().coastlines())"
   ]
  },
  {
   "cell_type": "markdown",
   "metadata": {},
   "source": [
    "<a id=\"bokeh\"></a>\n",
    "\n",
    "## Gráficos interativos Bokeh usando hvplot\n",
    "\n",
    "A funcionalidade de plotagem embutida no Xarray envolve matplotlib.\n",
    "\n",
    "O ecossistema de plotagem `holoviews` fornece o pacote `hvplot` para permitir\n",
    "visualização de objetos xarray (e outros) (https://hvplot.holoviz.org/). Estes\n",
    "plotagens são baseadas em [Bokeh](https://bokeh.org/).\n",
    "\n",
    "`hvplot` faz uso da interface de acesso do xarray. Isso significa que todos os objetos xarray ganham um atributo `.hvplot` que permite acessar a funcionalidade `hvplot` tão facilmente quanto você usaria `.plot`\n"
   ]
  },
  {
   "cell_type": "code",
   "execution_count": null,
   "metadata": {
    "ExecuteTime": {
     "end_time": "2020-06-11T03:12:07.379960Z",
     "start_time": "2020-06-11T03:12:05.559749Z"
    }
   },
   "outputs": [],
   "source": [
    "import hvplot.xarray"
   ]
  },
  {
   "cell_type": "markdown",
   "metadata": {},
   "source": [
    "**`hvplot` faz as mesmas escolhas padrão que xarray**\n"
   ]
  },
  {
   "cell_type": "code",
   "execution_count": null,
   "metadata": {
    "ExecuteTime": {
     "end_time": "2020-06-11T03:12:10.251511Z",
     "start_time": "2020-06-11T03:12:09.004741Z"
    }
   },
   "outputs": [],
   "source": [
    "# Histograma quando tem mais de duas dimensões\n",
    "ds.Tair.hvplot()"
   ]
  },
  {
   "cell_type": "code",
   "execution_count": null,
   "metadata": {
    "ExecuteTime": {
     "end_time": "2020-06-11T03:12:13.498644Z",
     "start_time": "2020-06-11T03:12:13.391829Z"
    }
   },
   "outputs": [],
   "source": [
    "# Array 2D produz um gráfico quadmesh\n",
    "ds.Tair.isel(time=1).hvplot(cmap=\"fire\")"
   ]
  },
  {
   "cell_type": "code",
   "execution_count": null,
   "metadata": {
    "ExecuteTime": {
     "end_time": "2020-06-11T03:12:15.282022Z",
     "start_time": "2020-06-11T03:12:15.180088Z"
    }
   },
   "outputs": [],
   "source": [
    "# 1D produz um gráfico de linha\n",
    "ds.Tair.isel(time=1, lon=1).hvplot()"
   ]
  },
  {
   "cell_type": "markdown",
   "metadata": {},
   "source": [
    "### Interatividade\n",
    "\n",
    "Mas `hvplot` brilha quando a interatividade é usada. Aqui podemos dar a ele _todos_ os\n",
    "dados e pedir para criar um bom controle deslizante para controlar a fração de tempo usando o\n",
    "`groupby."
   ]
  },
  {
   "cell_type": "code",
   "execution_count": null,
   "metadata": {
    "ExecuteTime": {
     "end_time": "2020-06-11T03:12:41.353540Z",
     "start_time": "2020-06-11T03:12:41.143491Z"
    }
   },
   "outputs": [],
   "source": [
    "ds.Tair.hvplot(\n",
    "    groupby=\"time\",\n",
    "    clim=(250, 295),  # adds a widget for time  # sets colorbar limits\n",
    ")"
   ]
  },
  {
   "cell_type": "markdown",
   "metadata": {},
   "source": [
    "Animações são fáceis\n"
   ]
  },
  {
   "cell_type": "code",
   "execution_count": null,
   "metadata": {
    "ExecuteTime": {
     "end_time": "2020-06-11T03:12:47.032547Z",
     "start_time": "2020-06-11T03:12:46.820441Z"
    }
   },
   "outputs": [],
   "source": [
    "# definir limites constantes da barra de cores\n",
    "ds.Tair.hvplot(\n",
    "    groupby=\"time\",  # adiciona um widget para o tempo\n",
    "    clim=(250, 295),  # define limites do mapa de cores\n",
    "    widget_type=\"scrubber\",\n",
    "    widget_location=\"bottom\",\n",
    ")"
   ]
  },
  {
   "cell_type": "markdown",
   "metadata": {},
   "source": [
    "### Geografia\n"
   ]
  },
  {
   "cell_type": "code",
   "execution_count": null,
   "metadata": {
    "ExecuteTime": {
     "end_time": "2020-06-11T03:23:34.446468Z",
     "start_time": "2020-06-11T03:23:32.211041Z"
    }
   },
   "outputs": [],
   "source": [
    "ds.Tair.isel(time=1).hvplot(\n",
    "    projection=ccrs.Orthographic(-90, 30),\n",
    "    coastline=True,\n",
    ")"
   ]
  },
  {
   "cell_type": "markdown",
   "metadata": {},
   "source": [
    "## Recursos adicionais\n",
    "\n",
    "1. Xarray's visualization gallery:\n",
    "   https://xarray.pydata.org/en/stable/examples/visualization_gallery.html\n",
    "2. Xarray's plotting documentation:\n",
    "   https://xarray.pydata.org/en/stable/plotting.html\n",
    "3. hvplot's plotting documentation:\n",
    "   https://hvplot.holoviz.org/user_guide/Gridded_Data.html\n"
   ]
  }
 ],
 "metadata": {
  "kernelspec": {
   "display_name": "Python 3",
   "language": "python",
   "name": "python3"
  },
  "language_info": {
   "codemirror_mode": {
    "name": "ipython",
    "version": 3
   },
   "file_extension": ".py",
   "mimetype": "text/x-python",
   "name": "python",
   "nbconvert_exporter": "python",
   "pygments_lexer": "ipython3",
   "version": "3.8.3"
  },
  "toc": {
   "base_numbering": 1,
   "nav_menu": {},
   "number_sections": true,
   "sideBar": true,
   "skip_h1_title": false,
   "title_cell": "Table of Contents",
   "title_sidebar": "Contents",
   "toc_cell": true,
   "toc_position": {},
   "toc_section_display": true,
   "toc_window_display": true
  }
 },
 "nbformat": 4,
 "nbformat_minor": 4
}
